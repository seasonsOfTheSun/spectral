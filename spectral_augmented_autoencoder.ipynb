{
  "nbformat": 4,
  "nbformat_minor": 0,
  "metadata": {
    "colab": {
      "provenance": [],
      "authorship_tag": "ABX9TyPKNuPHu9hyPnIzNmcT53TT",
      "include_colab_link": true
    },
    "kernelspec": {
      "name": "python3",
      "display_name": "Python 3"
    },
    "language_info": {
      "name": "python"
    }
  },
  "cells": [
    {
      "cell_type": "markdown",
      "metadata": {
        "id": "view-in-github",
        "colab_type": "text"
      },
      "source": [
        "<a href=\"https://colab.research.google.com/github/seasonsOfTheSun/spectral/blob/main/spectral_augmented_autoencoder.ipynb\" target=\"_parent\"><img src=\"https://colab.research.google.com/assets/colab-badge.svg\" alt=\"Open In Colab\"/></a>"
      ]
    },
    {
      "cell_type": "code",
      "source": [
        "!pip install flax"
      ],
      "metadata": {
        "colab": {
          "base_uri": "https://localhost:8080/"
        },
        "id": "Pbn5qugltYeW",
        "outputId": "feda76e3-097e-47a5-fc3b-24bf2318533c"
      },
      "execution_count": 43,
      "outputs": [
        {
          "output_type": "stream",
          "name": "stdout",
          "text": [
            "Looking in indexes: https://pypi.org/simple, https://us-python.pkg.dev/colab-wheels/public/simple/\n",
            "Collecting flax\n",
            "  Downloading flax-0.6.3-py3-none-any.whl (197 kB)\n",
            "\u001b[K     |████████████████████████████████| 197 kB 4.1 MB/s \n",
            "\u001b[?25hRequirement already satisfied: matplotlib in /usr/local/lib/python3.8/dist-packages (from flax) (3.2.2)\n",
            "Collecting tensorstore\n",
            "  Downloading tensorstore-0.1.28-cp38-cp38-manylinux_2_17_x86_64.manylinux2014_x86_64.whl (8.3 MB)\n",
            "\u001b[K     |████████████████████████████████| 8.3 MB 58.5 MB/s \n",
            "\u001b[?25hRequirement already satisfied: numpy>=1.12 in /usr/local/lib/python3.8/dist-packages (from flax) (1.21.6)\n",
            "Collecting orbax\n",
            "  Downloading orbax-0.0.23-py3-none-any.whl (66 kB)\n",
            "\u001b[K     |████████████████████████████████| 66 kB 5.4 MB/s \n",
            "\u001b[?25hCollecting optax\n",
            "  Downloading optax-0.1.4-py3-none-any.whl (154 kB)\n",
            "\u001b[K     |████████████████████████████████| 154 kB 71.4 MB/s \n",
            "\u001b[?25hRequirement already satisfied: typing-extensions>=4.1.1 in /usr/local/lib/python3.8/dist-packages (from flax) (4.4.0)\n",
            "Collecting rich>=11.1\n",
            "  Downloading rich-12.6.0-py3-none-any.whl (237 kB)\n",
            "\u001b[K     |████████████████████████████████| 237 kB 66.5 MB/s \n",
            "\u001b[?25hRequirement already satisfied: jax>=0.3.16 in /usr/local/lib/python3.8/dist-packages (from flax) (0.3.25)\n",
            "Requirement already satisfied: PyYAML>=5.4.1 in /usr/local/lib/python3.8/dist-packages (from flax) (6.0)\n",
            "Requirement already satisfied: msgpack in /usr/local/lib/python3.8/dist-packages (from flax) (1.0.4)\n",
            "Requirement already satisfied: scipy>=1.5 in /usr/local/lib/python3.8/dist-packages (from jax>=0.3.16->flax) (1.7.3)\n",
            "Requirement already satisfied: opt-einsum in /usr/local/lib/python3.8/dist-packages (from jax>=0.3.16->flax) (3.3.0)\n",
            "Requirement already satisfied: pygments<3.0.0,>=2.6.0 in /usr/local/lib/python3.8/dist-packages (from rich>=11.1->flax) (2.6.1)\n",
            "Collecting commonmark<0.10.0,>=0.9.0\n",
            "  Downloading commonmark-0.9.1-py2.py3-none-any.whl (51 kB)\n",
            "\u001b[K     |████████████████████████████████| 51 kB 6.7 MB/s \n",
            "\u001b[?25hRequirement already satisfied: kiwisolver>=1.0.1 in /usr/local/lib/python3.8/dist-packages (from matplotlib->flax) (1.4.4)\n",
            "Requirement already satisfied: pyparsing!=2.0.4,!=2.1.2,!=2.1.6,>=2.0.1 in /usr/local/lib/python3.8/dist-packages (from matplotlib->flax) (3.0.9)\n",
            "Requirement already satisfied: python-dateutil>=2.1 in /usr/local/lib/python3.8/dist-packages (from matplotlib->flax) (2.8.2)\n",
            "Requirement already satisfied: cycler>=0.10 in /usr/local/lib/python3.8/dist-packages (from matplotlib->flax) (0.11.0)\n",
            "Requirement already satisfied: six>=1.5 in /usr/local/lib/python3.8/dist-packages (from python-dateutil>=2.1->matplotlib->flax) (1.15.0)\n",
            "Collecting chex>=0.1.5\n",
            "  Downloading chex-0.1.5-py3-none-any.whl (85 kB)\n",
            "\u001b[K     |████████████████████████████████| 85 kB 4.2 MB/s \n",
            "\u001b[?25hRequirement already satisfied: absl-py>=0.7.1 in /usr/local/lib/python3.8/dist-packages (from optax->flax) (1.3.0)\n",
            "Requirement already satisfied: jaxlib>=0.1.37 in /usr/local/lib/python3.8/dist-packages (from optax->flax) (0.3.25+cuda11.cudnn805)\n",
            "Requirement already satisfied: dm-tree>=0.1.5 in /usr/local/lib/python3.8/dist-packages (from chex>=0.1.5->optax->flax) (0.1.7)\n",
            "Requirement already satisfied: toolz>=0.9.0 in /usr/local/lib/python3.8/dist-packages (from chex>=0.1.5->optax->flax) (0.12.0)\n",
            "Requirement already satisfied: importlib_resources in /usr/local/lib/python3.8/dist-packages (from orbax->flax) (5.10.1)\n",
            "Requirement already satisfied: etils in /usr/local/lib/python3.8/dist-packages (from orbax->flax) (0.9.0)\n",
            "Requirement already satisfied: pytest in /usr/local/lib/python3.8/dist-packages (from orbax->flax) (3.6.4)\n",
            "Collecting cached_property\n",
            "  Downloading cached_property-1.5.2-py2.py3-none-any.whl (7.6 kB)\n",
            "Requirement already satisfied: zipp>=3.1.0 in /usr/local/lib/python3.8/dist-packages (from importlib_resources->orbax->flax) (3.11.0)\n",
            "Requirement already satisfied: more-itertools>=4.0.0 in /usr/local/lib/python3.8/dist-packages (from pytest->orbax->flax) (9.0.0)\n",
            "Requirement already satisfied: attrs>=17.4.0 in /usr/local/lib/python3.8/dist-packages (from pytest->orbax->flax) (22.1.0)\n",
            "Requirement already satisfied: py>=1.5.0 in /usr/local/lib/python3.8/dist-packages (from pytest->orbax->flax) (1.11.0)\n",
            "Requirement already satisfied: setuptools in /usr/local/lib/python3.8/dist-packages (from pytest->orbax->flax) (57.4.0)\n",
            "Requirement already satisfied: pluggy<0.8,>=0.5 in /usr/local/lib/python3.8/dist-packages (from pytest->orbax->flax) (0.7.1)\n",
            "Requirement already satisfied: atomicwrites>=1.0 in /usr/local/lib/python3.8/dist-packages (from pytest->orbax->flax) (1.4.1)\n",
            "Installing collected packages: tensorstore, commonmark, chex, cached-property, rich, orbax, optax, flax\n",
            "Successfully installed cached-property-1.5.2 chex-0.1.5 commonmark-0.9.1 flax-0.6.3 optax-0.1.4 orbax-0.0.23 rich-12.6.0 tensorstore-0.1.28\n"
          ]
        }
      ]
    },
    {
      "cell_type": "code",
      "execution_count": 1,
      "metadata": {
        "id": "1OCd-429op-K"
      },
      "outputs": [],
      "source": [
        "# make test data\n",
        "import numpy as np\n",
        "n = 1000\n",
        "x = 10*np.random.rand(n)\n",
        "y = 10*np.random.rand(n)\n",
        "z = np.sqrt(x**2 + y**2)+np.random.rand(n)\n",
        "w = y**3/100 + z + np.random.rand(n)\n",
        "u = z+w + np.random.rand(n)\n",
        "v = z-w + np.random.rand(n)"
      ]
    },
    {
      "cell_type": "code",
      "source": [
        "X = np.vstack([z,w,u,v]).T"
      ],
      "metadata": {
        "id": "tdyP0fZ4rNG2"
      },
      "execution_count": 2,
      "outputs": []
    },
    {
      "cell_type": "code",
      "source": [
        "import matplotlib.pyplot as plt"
      ],
      "metadata": {
        "id": "s1HZwLo3rfjf"
      },
      "execution_count": 3,
      "outputs": []
    },
    {
      "cell_type": "code",
      "source": [
        "plt.scatter(u,v,c='k',s=5.0)"
      ],
      "metadata": {
        "colab": {
          "base_uri": "https://localhost:8080/",
          "height": 283
        },
        "id": "3tz92uxsriLq",
        "outputId": "739f2d01-0278-47b9-9583-45b9cdebe4c3"
      },
      "execution_count": 4,
      "outputs": [
        {
          "output_type": "execute_result",
          "data": {
            "text/plain": [
              "<matplotlib.collections.PathCollection at 0x7f005d82a820>"
            ]
          },
          "metadata": {},
          "execution_count": 4
        },
        {
          "output_type": "display_data",
          "data": {
            "text/plain": [
              "<Figure size 432x288 with 1 Axes>"
            ],
            "image/png": "[encoded data removed]"
          },
          "metadata": {
            "needs_background": "light"
          }
        }
      ]
    },
    {
      "cell_type": "code",
      "source": [],
      "metadata": {
        "id": "CwRuCfIxtazt"
      },
      "execution_count": 4,
      "outputs": []
    },
    {
      "cell_type": "code",
      "source": [
        "# define stanndard autoencoder\n",
        "import jax\n",
        "import jax.numpy as jnp\n",
        "import flax.linen as nn\n",
        "\n",
        "class Encoder(nn.Module):\n",
        "  output_dim : int\n",
        "\n",
        "  def setup(self):\n",
        "    self.layer1 = nn.Dense(self.output_dim)\n",
        "  \n",
        "  def __call__(self,X):\n",
        "    return nn.relu(self.layer1(X))\n",
        "\n",
        "class Decoder(nn.Module):\n",
        "  output_dim : int\n",
        "  def setup(self):\n",
        "    self.layer2 = nn.Dense(self.output_dim)\n",
        "  \n",
        "  def __call__(self,X):\n",
        "    return self.layer2(X)\n",
        "\n",
        "class Autoencoder(nn.Module):\n",
        "  io_dim : int\n",
        "  n_latents : int\n",
        "\n",
        "\n",
        "  def setup(self):\n",
        "    self.encoder = Encoder(n_latents)\n",
        "    self.decoder = Decoder(io_dim)\n",
        "\n",
        "  def __call__(self,X):\n",
        "    return self.decoder(self.encoder(X))\n",
        "\n",
        "\n",
        "f = Autoencoder()\n"
      ],
      "metadata": {
        "colab": {
          "base_uri": "https://localhost:8080/",
          "height": 257
        },
        "id": "-vtjAHamtkTH",
        "outputId": "d887bb08-ec56-4edf-f000-a704d5588226"
      },
      "execution_count": 5,
      "outputs": [
        {
          "output_type": "error",
          "ename": "TypeError",
          "evalue": "ignored",
          "traceback": [
            "\u001b[0;31m---------------------------------------------------------------------------\u001b[0m",
            "\u001b[0;31mTypeError\u001b[0m                                 Traceback (most recent call last)",
            "\u001b[0;32m<ipython-input-5-254a036325ec>\u001b[0m in \u001b[0;36m<module>\u001b[0;34m\u001b[0m\n\u001b[1;32m     34\u001b[0m \u001b[0;34m\u001b[0m\u001b[0m\n\u001b[1;32m     35\u001b[0m \u001b[0;34m\u001b[0m\u001b[0m\n\u001b[0;32m---> 36\u001b[0;31m \u001b[0mf\u001b[0m \u001b[0;34m=\u001b[0m \u001b[0mAutoencoder\u001b[0m\u001b[0;34m(\u001b[0m\u001b[0;34m)\u001b[0m\u001b[0;34m\u001b[0m\u001b[0;34m\u001b[0m\u001b[0m\n\u001b[0m",
            "\u001b[0;31mTypeError\u001b[0m: __init__() missing 2 required positional arguments: 'io_dim' and 'n_latents'"
          ]
        }
      ]
    },
    {
      "cell_type": "code",
      "source": [
        "#store_parameters = parameters"
      ],
      "metadata": {
        "id": "r3W7FpnEyStm"
      },
      "execution_count": null,
      "outputs": []
    },
    {
      "cell_type": "code",
      "source": [
        "@jax.jit\n",
        "def mse(parameters, X):\n",
        "  return np.mean((f.apply(parameters, X) - X)**2)"
      ],
      "metadata": {
        "id": "eTU6Bw5dvflU"
      },
      "execution_count": null,
      "outputs": []
    },
    {
      "cell_type": "code",
      "source": [],
      "metadata": {
        "id": "jjBaFb3gpHGF"
      },
      "execution_count": 5,
      "outputs": []
    },
    {
      "cell_type": "code",
      "source": [],
      "metadata": {
        "id": "IofuNbyc_CCT"
      },
      "execution_count": 5,
      "outputs": []
    },
    {
      "cell_type": "code",
      "source": [],
      "metadata": {
        "id": "qOq-ehvo-gds"
      },
      "execution_count": 5,
      "outputs": []
    },
    {
      "cell_type": "code",
      "source": [],
      "metadata": {
        "id": "Dsw4gaSxCypx"
      },
      "execution_count": 5,
      "outputs": []
    },
    {
      "cell_type": "code",
      "source": [
        "import optax\n",
        "import tqdm"
      ],
      "metadata": {
        "id": "sRQlKIbMptrn"
      },
      "execution_count": 6,
      "outputs": []
    },
    {
      "cell_type": "code",
      "source": [],
      "metadata": {
        "colab": {
          "base_uri": "https://localhost:8080/",
          "height": 203
        },
        "id": "1RGbD1pY7jW3",
        "outputId": "4f7532a3-3e76-4014-db2b-b1172332796c"
      },
      "execution_count": 7,
      "outputs": [
        {
          "output_type": "error",
          "ename": "NameError",
          "evalue": "ignored",
          "traceback": [
            "\u001b[0;31m---------------------------------------------------------------------------\u001b[0m",
            "\u001b[0;31mNameError\u001b[0m                                 Traceback (most recent call last)",
            "\u001b[0;32m<ipython-input-7-a160b73ab5f5>\u001b[0m in \u001b[0;36m<module>\u001b[0;34m\u001b[0m\n\u001b[0;32m----> 1\u001b[0;31m \u001b[0mparameters\u001b[0m\u001b[0;34m[\u001b[0m\u001b[0;34m'params'\u001b[0m\u001b[0;34m]\u001b[0m\u001b[0;34m.\u001b[0m\u001b[0mkeys\u001b[0m\u001b[0;34m(\u001b[0m\u001b[0;34m)\u001b[0m\u001b[0;34m\u001b[0m\u001b[0;34m\u001b[0m\u001b[0m\n\u001b[0m",
            "\u001b[0;31mNameError\u001b[0m: name 'parameters' is not defined"
          ]
        }
      ]
    },
    {
      "cell_type": "code",
      "source": [
        "import flax\n",
        "#parameters = flax.core.unfreeze(parameters)\n",
        "#parameters['params']['encoder']['layer1'] = store_parameters['params']['layer1']\n",
        "#parameters['params']['decoder']['layer2'] = store_parameters['params']['layer2']\n",
        "#parameters = flax.core.freeze(parameters)"
      ],
      "metadata": {
        "id": "kxRlsmoj8n1L"
      },
      "execution_count": 8,
      "outputs": []
    },
    {
      "cell_type": "code",
      "source": [
        "# useful functions\n",
        "flax.core.unfreeze\n",
        "flax.core.freeze\n",
        "nn.Module.bind\n",
        "optax.apply_updates\n"
      ],
      "metadata": {
        "colab": {
          "base_uri": "https://localhost:8080/"
        },
        "id": "z4GXCkwV8Qsg",
        "outputId": "a3398789-209d-49fa-f459-264bec089d39"
      },
      "execution_count": 11,
      "outputs": [
        {
          "output_type": "execute_result",
          "data": {
            "text/plain": [
              "<function optax._src.update.apply_updates(params: Union[jax._src.basearray.Array, Iterable[ForwardRef('ArrayTree')], Mapping[Any, ForwardRef('ArrayTree')]], updates: Union[jax._src.basearray.Array, Iterable[ForwardRef('ArrayTree')], Mapping[Any, ForwardRef('ArrayTree')]]) -> Union[jax._src.basearray.Array, Iterable[ForwardRef('ArrayTree')], Mapping[Any, ForwardRef('ArrayTree')]]>"
            ]
          },
          "metadata": {},
          "execution_count": 11
        }
      ]
    },
    {
      "cell_type": "code",
      "source": [],
      "metadata": {
        "id": "0b4c6lt77vry"
      },
      "execution_count": 8,
      "outputs": []
    },
    {
      "cell_type": "code",
      "source": [],
      "metadata": {
        "id": "-eGs3SfH7pSC"
      },
      "execution_count": 8,
      "outputs": []
    },
    {
      "cell_type": "code",
      "source": [],
      "metadata": {
        "id": "wvWvOxuwybfg"
      },
      "execution_count": 8,
      "outputs": []
    },
    {
      "cell_type": "code",
      "source": [
        "n = 1000\n",
        "parameters = f.init(jax.random.PRNGKey(108),X)\n",
        "optimizer = optax.adam(0.001)\n",
        "state = optimizer.init(parameters)\n",
        "\n",
        "out108 = []\n",
        "for i in tqdm.tqdm(range(n)):\n",
        "  value,grad = jax.value_and_grad(mse)(parameters, X)\n",
        "  out108.append(value)\n",
        "  updates,state = optimizer.update(grad, state,parameters)\n",
        "  parameters = optax.apply_updates(parameters, updates)\n",
        "\n",
        "parameters = f.init(jax.random.PRNGKey(107),X)\n",
        "optimizer = optax.adam(0.001)\n",
        "state = optimizer.init(parameters)\n",
        "\n",
        "\n",
        "out107 = []\n",
        "for i in tqdm.tqdm(range(n)):\n",
        "  value,grad = jax.value_and_grad(mse)(parameters, X)\n",
        "  out107.append(value)\n",
        "  updates,state = optimizer.update(grad, state,parameters)\n",
        "  parameters = optax.apply_updates(parameters, updates)\n"
      ],
      "metadata": {
        "id": "Jctvo__Fwjoj"
      },
      "execution_count": 8,
      "outputs": []
    },
    {
      "cell_type": "code",
      "source": [],
      "metadata": {
        "id": "Q_yCH7ziF8Jj"
      },
      "execution_count": 8,
      "outputs": []
    },
    {
      "cell_type": "code",
      "source": [
        "\n",
        "h1 = plt.scatter(range(n), out107)\n",
        "h2 = plt.scatter(range(n), out108)\n",
        "plt.legend((h1, h2), (\"seed=107\", \"seed=108\"))\n",
        "plt.suptitle(\"apparently initialization matters quite a bit...\")\n"
      ],
      "metadata": {
        "colab": {
          "base_uri": "https://localhost:8080/",
          "height": 312
        },
        "id": "CsEIw8ddwoag",
        "outputId": "dd991fec-6a59-4560-96c1-2900cf02cd6b"
      },
      "execution_count": 253,
      "outputs": [
        {
          "output_type": "execute_result",
          "data": {
            "text/plain": [
              "Text(0.5, 0.98, 'apparentlly initialization matters quite a bit...')"
            ]
          },
          "metadata": {},
          "execution_count": 253
        },
        {
          "output_type": "display_data",
          "data": {
            "text/plain": [
              "<Figure size 432x288 with 1 Axes>"
            ],
            "image/png": "[encoded data removed]"
          },
          "metadata": {
            "needs_background": "light"
          }
        }
      ]
    },
    {
      "cell_type": "code",
      "source": [
        "boop = f.bind(parameters)\n"
      ],
      "metadata": {
        "id": "RWeQxl70xh4J"
      },
      "execution_count": 256,
      "outputs": []
    },
    {
      "cell_type": "code",
      "source": [
        "xy_approximated = boop.encoder(X)\n",
        "fig,axes = plt.subplots(ncols = 2, figsize = [7,3])\n",
        "ax1,ax2 = axes.flatten()\n",
        "ax1.scatter(xy_approximated[:,0],xy_approximated[:,1],c=x)\n",
        "ax2.scatter(xy_approximated[:,0],xy_approximated[:,1],c=y)"
      ],
      "metadata": {
        "colab": {
          "base_uri": "https://localhost:8080/",
          "height": 229
        },
        "id": "7jAYIMxlxwjx",
        "outputId": "9d5cd88c-00d1-41d3-9ffb-72478d85e535"
      },
      "execution_count": 265,
      "outputs": [
        {
          "output_type": "execute_result",
          "data": {
            "text/plain": [
              "<matplotlib.collections.PathCollection at 0x7f3a7fd5f850>"
            ]
          },
          "metadata": {},
          "execution_count": 265
        },
        {
          "output_type": "display_data",
          "data": {
            "text/plain": [
              "<Figure size 504x216 with 2 Axes>"
            ],
            "image/png": "[encoded data removed]"
          },
          "metadata": {
            "needs_background": "light"
          }
        }
      ]
    },
    {
      "cell_type": "code",
      "source": [
        "xy_approximated = boop.encoder.layer1(X)\n",
        "fig,axes = plt.subplots(ncols = 2, figsize = [7,3])\n",
        "ax1,ax2 = axes.flatten()\n",
        "ax1.scatter(xy_approximated[:,0],xy_approximated[:,1],c=x)\n",
        "ax2.scatter(xy_approximated[:,0],xy_approximated[:,1],c=y)"
      ],
      "metadata": {
        "colab": {
          "base_uri": "https://localhost:8080/",
          "height": 229
        },
        "id": "FYYMQ_9PG7cG",
        "outputId": "7585de8c-14c4-48ef-8ce1-2f28d4f1d814"
      },
      "execution_count": 266,
      "outputs": [
        {
          "output_type": "execute_result",
          "data": {
            "text/plain": [
              "<matplotlib.collections.PathCollection at 0x7f3a7fc89d90>"
            ]
          },
          "metadata": {},
          "execution_count": 266
        },
        {
          "output_type": "display_data",
          "data": {
            "text/plain": [
              "<Figure size 504x216 with 2 Axes>"
            ],
            "image/png": "[encoded data removed]"
          },
          "metadata": {
            "needs_background": "light"
          }
        }
      ]
    },
    {
      "cell_type": "code",
      "source": [
        "xy_approximated = boop.encoder(X)\n",
        "fig,axes = plt.subplots(ncols = 3, figsize = [10,3])\n",
        "ax1,ax2,ax3 = axes.flatten()\n",
        "ax1.scatter(xy_approximated[:,0],xy_approximated[:,1],c=z)\n",
        "ax2.scatter(xy_approximated[:,0],xy_approximated[:,1],c=u)\n",
        "ax3.scatter(xy_approximated[:,0],xy_approximated[:,1],c=v)"
      ],
      "metadata": {
        "colab": {
          "base_uri": "https://localhost:8080/",
          "height": 229
        },
        "id": "BeH5b_03HStI",
        "outputId": "4361f0bf-eb14-462a-f684-b2a556703e67"
      },
      "execution_count": 268,
      "outputs": [
        {
          "output_type": "execute_result",
          "data": {
            "text/plain": [
              "<matplotlib.collections.PathCollection at 0x7f3a7fb28d30>"
            ]
          },
          "metadata": {},
          "execution_count": 268
        },
        {
          "output_type": "display_data",
          "data": {
            "text/plain": [
              "<Figure size 720x216 with 3 Axes>"
            ],
            "image/png": "[encoded data removed]"
          },
          "metadata": {
            "needs_background": "light"
          }
        }
      ]
    },
    {
      "cell_type": "code",
      "source": [
        "plt.scatter(xy_approximated[:,0],x)\n",
        "plt.plot([0,10],[0,10])"
      ],
      "metadata": {
        "colab": {
          "base_uri": "https://localhost:8080/",
          "height": 283
        },
        "id": "KHSDNpbcJDHa",
        "outputId": "c557a449-9e4c-4cf2-bf24-ab51e6224323"
      },
      "execution_count": 271,
      "outputs": [
        {
          "output_type": "execute_result",
          "data": {
            "text/plain": [
              "[<matplotlib.lines.Line2D at 0x7f3a7f9fc2b0>]"
            ]
          },
          "metadata": {},
          "execution_count": 271
        },
        {
          "output_type": "display_data",
          "data": {
            "text/plain": [
              "<Figure size 432x288 with 1 Axes>"
            ],
            "image/png": "[encoded data removed]"
          },
          "metadata": {
            "needs_background": "light"
          }
        }
      ]
    },
    {
      "cell_type": "code",
      "source": [
        "plt.scatter(xy_approximated[:,1],y)\n",
        "plt.plot([0,10],[0,10])"
      ],
      "metadata": {
        "colab": {
          "base_uri": "https://localhost:8080/",
          "height": 283
        },
        "id": "hBLmr21sKLK1",
        "outputId": "0b2c6f6e-5fa6-4bc6-e014-be6abef5a758"
      },
      "execution_count": 272,
      "outputs": [
        {
          "output_type": "execute_result",
          "data": {
            "text/plain": [
              "[<matplotlib.lines.Line2D at 0x7f3a7f9b0fa0>]"
            ]
          },
          "metadata": {},
          "execution_count": 272
        },
        {
          "output_type": "display_data",
          "data": {
            "text/plain": [
              "<Figure size 432x288 with 1 Axes>"
            ],
            "image/png": "[encoded data removed]"
          },
          "metadata": {
            "needs_background": "light"
          }
        }
      ]
    },
    {
      "cell_type": "code",
      "source": [],
      "metadata": {
        "id": "mebNooO5KN99"
      },
      "execution_count": null,
      "outputs": []
    },
    {
      "cell_type": "markdown",
      "source": [
        "# Let's get spectral 👻"
      ],
      "metadata": {
        "id": "Uquk6b5jKaX7"
      }
    },
    {
      "cell_type": "code",
      "source": [
        "!pip install umap-learn"
      ],
      "metadata": {
        "colab": {
          "base_uri": "https://localhost:8080/"
        },
        "id": "vLP-vAa8Lyhb",
        "outputId": "cb16d1a0-fe30-4f65-eab6-21fc111d0888"
      },
      "execution_count": 275,
      "outputs": [
        {
          "output_type": "stream",
          "name": "stdout",
          "text": [
            "Looking in indexes: https://pypi.org/simple, https://us-python.pkg.dev/colab-wheels/public/simple/\n",
            "Collecting umap-learn\n",
            "  Downloading umap-learn-0.5.3.tar.gz (88 kB)\n",
            "\u001b[K     |████████████████████████████████| 88 kB 3.3 MB/s \n",
            "\u001b[?25hRequirement already satisfied: numpy>=1.17 in /usr/local/lib/python3.8/dist-packages (from umap-learn) (1.21.6)\n",
            "Requirement already satisfied: scikit-learn>=0.22 in /usr/local/lib/python3.8/dist-packages (from umap-learn) (1.0.2)\n",
            "Requirement already satisfied: scipy>=1.0 in /usr/local/lib/python3.8/dist-packages (from umap-learn) (1.7.3)\n",
            "Requirement already satisfied: numba>=0.49 in /usr/local/lib/python3.8/dist-packages (from umap-learn) (0.56.4)\n",
            "Collecting pynndescent>=0.5\n",
            "  Downloading pynndescent-0.5.8.tar.gz (1.1 MB)\n",
            "\u001b[K     |████████████████████████████████| 1.1 MB 8.6 MB/s \n",
            "\u001b[?25hRequirement already satisfied: tqdm in /usr/local/lib/python3.8/dist-packages (from umap-learn) (4.64.1)\n",
            "Requirement already satisfied: setuptools in /usr/local/lib/python3.8/dist-packages (from numba>=0.49->umap-learn) (57.4.0)\n",
            "Requirement already satisfied: importlib-metadata in /usr/local/lib/python3.8/dist-packages (from numba>=0.49->umap-learn) (5.1.0)\n",
            "Requirement already satisfied: llvmlite<0.40,>=0.39.0dev0 in /usr/local/lib/python3.8/dist-packages (from numba>=0.49->umap-learn) (0.39.1)\n",
            "Requirement already satisfied: joblib>=0.11 in /usr/local/lib/python3.8/dist-packages (from pynndescent>=0.5->umap-learn) (1.2.0)\n",
            "Requirement already satisfied: threadpoolctl>=2.0.0 in /usr/local/lib/python3.8/dist-packages (from scikit-learn>=0.22->umap-learn) (3.1.0)\n",
            "Requirement already satisfied: zipp>=0.5 in /usr/local/lib/python3.8/dist-packages (from importlib-metadata->numba>=0.49->umap-learn) (3.11.0)\n",
            "Building wheels for collected packages: umap-learn, pynndescent\n",
            "  Building wheel for umap-learn (setup.py) ... \u001b[?25l\u001b[?25hdone\n",
            "  Created wheel for umap-learn: filename=umap_learn-0.5.3-py3-none-any.whl size=82829 sha256=a6ae59bdc439d31086f5048e1ac594cf8a2dd6fc1b9087ca80fb3ce19faf2d0d\n",
            "  Stored in directory: /root/.cache/pip/wheels/a9/3a/67/06a8950e053725912e6a8c42c4a3a241410f6487b8402542ea\n",
            "  Building wheel for pynndescent (setup.py) ... \u001b[?25l\u001b[?25hdone\n",
            "  Created wheel for pynndescent: filename=pynndescent-0.5.8-py3-none-any.whl size=55513 sha256=d85b875a87c00cd060d19fb8fd360bff0054e2bd54eeeac0681142b5e53b4870\n",
            "  Stored in directory: /root/.cache/pip/wheels/1c/63/3a/29954bca1a27ba100ed8c27973a78cb71b43dc67aed62e80c3\n",
            "Successfully built umap-learn pynndescent\n",
            "Installing collected packages: pynndescent, umap-learn\n",
            "Successfully installed pynndescent-0.5.8 umap-learn-0.5.3\n"
          ]
        }
      ]
    },
    {
      "cell_type": "code",
      "source": [
        "import sklearn.datasets\n",
        "dataset = sklearn.datasets.load_breast_cancer()\n",
        "dataset_name = \"breast cancer\"\n",
        "X = dataset['data']\n",
        "X = (X - np.mean(X))/np.std(X)"
      ],
      "metadata": {
        "id": "198FrxNWxXE6"
      },
      "execution_count": 58,
      "outputs": []
    },
    {
      "cell_type": "code",
      "source": [
        "print(X.shape[1])"
      ],
      "metadata": {
        "colab": {
          "base_uri": "https://localhost:8080/"
        },
        "id": "JAnuaWcP0AqC",
        "outputId": "f6a72855-b84c-4b3f-ea7a-3a3ce5bbfb16"
      },
      "execution_count": 68,
      "outputs": [
        {
          "output_type": "stream",
          "name": "stdout",
          "text": [
            "30\n"
          ]
        }
      ]
    },
    {
      "cell_type": "code",
      "source": [
        "import umap\n",
        "import networkx as nx\n",
        "import numpy as np\n",
        "import scipy.sparse\n",
        "\n",
        "nneighbors = 10\n",
        "metric = 'euclidean'\n",
        "rndstate = np.random.RandomState(108)\n",
        "\n",
        "adjacency,_,_ = umap.umap_.fuzzy_simplicial_set(X, nneighbors, rndstate, metric)\n"
      ],
      "metadata": {
        "id": "2pgJz1Q_KeAs"
      },
      "execution_count": 70,
      "outputs": []
    },
    {
      "cell_type": "code",
      "source": [
        "degrees = adjacency * np.ones(X.shape[0])\n",
        "degrees_inv_sqrt = [1/np.sqrt(x) for x in degrees]\n",
        "normalized_adjacency = (scipy.sparse.diags(degrees_inv_sqrt)*\n",
        "                        adjacency*\n",
        "                        scipy.sparse.diags(degrees_inv_sqrt))\n"
      ],
      "metadata": {
        "id": "UVp-DqneNrXl"
      },
      "execution_count": 60,
      "outputs": []
    },
    {
      "cell_type": "code",
      "source": [
        "\n",
        "n_evectors = 50                                                                                                          \n",
        "e,evecs = scipy.sparse.linalg.eigsh(normalized_adjacency, k = n_evectors)\n",
        "\n"
      ],
      "metadata": {
        "id": "naFrhAqoLY0_"
      },
      "execution_count": 61,
      "outputs": []
    },
    {
      "cell_type": "code",
      "source": [
        "plt.scatter(y,evecs[:,-5])\n",
        "#plt.plot([0,10],[0,10])"
      ],
      "metadata": {
        "colab": {
          "base_uri": "https://localhost:8080/",
          "height": 657
        },
        "id": "48Xf2XFhTErj",
        "outputId": "dcf36327-6d46-4bca-e72b-232743ff6d7e"
      },
      "execution_count": 62,
      "outputs": [
        {
          "output_type": "error",
          "ename": "ValueError",
          "evalue": "ignored",
          "traceback": [
            "\u001b[0;31m---------------------------------------------------------------------------\u001b[0m",
            "\u001b[0;31mValueError\u001b[0m                                Traceback (most recent call last)",
            "\u001b[0;32m<ipython-input-62-94ec7b06c372>\u001b[0m in \u001b[0;36m<module>\u001b[0;34m\u001b[0m\n\u001b[0;32m----> 1\u001b[0;31m \u001b[0mplt\u001b[0m\u001b[0;34m.\u001b[0m\u001b[0mscatter\u001b[0m\u001b[0;34m(\u001b[0m\u001b[0my\u001b[0m\u001b[0;34m,\u001b[0m\u001b[0mevecs\u001b[0m\u001b[0;34m[\u001b[0m\u001b[0;34m:\u001b[0m\u001b[0;34m,\u001b[0m\u001b[0;34m-\u001b[0m\u001b[0;36m5\u001b[0m\u001b[0;34m]\u001b[0m\u001b[0;34m)\u001b[0m\u001b[0;34m\u001b[0m\u001b[0;34m\u001b[0m\u001b[0m\n\u001b[0m\u001b[1;32m      2\u001b[0m \u001b[0;31m#plt.plot([0,10],[0,10])\u001b[0m\u001b[0;34m\u001b[0m\u001b[0;34m\u001b[0m\u001b[0;34m\u001b[0m\u001b[0m\n",
            "\u001b[0;32m/usr/local/lib/python3.8/dist-packages/matplotlib/pyplot.py\u001b[0m in \u001b[0;36mscatter\u001b[0;34m(x, y, s, c, marker, cmap, norm, vmin, vmax, alpha, linewidths, verts, edgecolors, plotnonfinite, data, **kwargs)\u001b[0m\n\u001b[1;32m   2809\u001b[0m         \u001b[0mverts\u001b[0m\u001b[0;34m=\u001b[0m\u001b[0mcbook\u001b[0m\u001b[0;34m.\u001b[0m\u001b[0mdeprecation\u001b[0m\u001b[0;34m.\u001b[0m\u001b[0m_deprecated_parameter\u001b[0m\u001b[0;34m,\u001b[0m\u001b[0;34m\u001b[0m\u001b[0;34m\u001b[0m\u001b[0m\n\u001b[1;32m   2810\u001b[0m         edgecolors=None, *, plotnonfinite=False, data=None, **kwargs):\n\u001b[0;32m-> 2811\u001b[0;31m     __ret = gca().scatter(\n\u001b[0m\u001b[1;32m   2812\u001b[0m         \u001b[0mx\u001b[0m\u001b[0;34m,\u001b[0m \u001b[0my\u001b[0m\u001b[0;34m,\u001b[0m \u001b[0ms\u001b[0m\u001b[0;34m=\u001b[0m\u001b[0ms\u001b[0m\u001b[0;34m,\u001b[0m \u001b[0mc\u001b[0m\u001b[0;34m=\u001b[0m\u001b[0mc\u001b[0m\u001b[0;34m,\u001b[0m \u001b[0mmarker\u001b[0m\u001b[0;34m=\u001b[0m\u001b[0mmarker\u001b[0m\u001b[0;34m,\u001b[0m \u001b[0mcmap\u001b[0m\u001b[0;34m=\u001b[0m\u001b[0mcmap\u001b[0m\u001b[0;34m,\u001b[0m \u001b[0mnorm\u001b[0m\u001b[0;34m=\u001b[0m\u001b[0mnorm\u001b[0m\u001b[0;34m,\u001b[0m\u001b[0;34m\u001b[0m\u001b[0;34m\u001b[0m\u001b[0m\n\u001b[1;32m   2813\u001b[0m         \u001b[0mvmin\u001b[0m\u001b[0;34m=\u001b[0m\u001b[0mvmin\u001b[0m\u001b[0;34m,\u001b[0m \u001b[0mvmax\u001b[0m\u001b[0;34m=\u001b[0m\u001b[0mvmax\u001b[0m\u001b[0;34m,\u001b[0m \u001b[0malpha\u001b[0m\u001b[0;34m=\u001b[0m\u001b[0malpha\u001b[0m\u001b[0;34m,\u001b[0m \u001b[0mlinewidths\u001b[0m\u001b[0;34m=\u001b[0m\u001b[0mlinewidths\u001b[0m\u001b[0;34m,\u001b[0m\u001b[0;34m\u001b[0m\u001b[0;34m\u001b[0m\u001b[0m\n",
            "\u001b[0;32m/usr/local/lib/python3.8/dist-packages/matplotlib/__init__.py\u001b[0m in \u001b[0;36minner\u001b[0;34m(ax, data, *args, **kwargs)\u001b[0m\n\u001b[1;32m   1563\u001b[0m     \u001b[0;32mdef\u001b[0m \u001b[0minner\u001b[0m\u001b[0;34m(\u001b[0m\u001b[0max\u001b[0m\u001b[0;34m,\u001b[0m \u001b[0;34m*\u001b[0m\u001b[0margs\u001b[0m\u001b[0;34m,\u001b[0m \u001b[0mdata\u001b[0m\u001b[0;34m=\u001b[0m\u001b[0;32mNone\u001b[0m\u001b[0;34m,\u001b[0m \u001b[0;34m**\u001b[0m\u001b[0mkwargs\u001b[0m\u001b[0;34m)\u001b[0m\u001b[0;34m:\u001b[0m\u001b[0;34m\u001b[0m\u001b[0;34m\u001b[0m\u001b[0m\n\u001b[1;32m   1564\u001b[0m         \u001b[0;32mif\u001b[0m \u001b[0mdata\u001b[0m \u001b[0;32mis\u001b[0m \u001b[0;32mNone\u001b[0m\u001b[0;34m:\u001b[0m\u001b[0;34m\u001b[0m\u001b[0;34m\u001b[0m\u001b[0m\n\u001b[0;32m-> 1565\u001b[0;31m             \u001b[0;32mreturn\u001b[0m \u001b[0mfunc\u001b[0m\u001b[0;34m(\u001b[0m\u001b[0max\u001b[0m\u001b[0;34m,\u001b[0m \u001b[0;34m*\u001b[0m\u001b[0mmap\u001b[0m\u001b[0;34m(\u001b[0m\u001b[0msanitize_sequence\u001b[0m\u001b[0;34m,\u001b[0m \u001b[0margs\u001b[0m\u001b[0;34m)\u001b[0m\u001b[0;34m,\u001b[0m \u001b[0;34m**\u001b[0m\u001b[0mkwargs\u001b[0m\u001b[0;34m)\u001b[0m\u001b[0;34m\u001b[0m\u001b[0;34m\u001b[0m\u001b[0m\n\u001b[0m\u001b[1;32m   1566\u001b[0m \u001b[0;34m\u001b[0m\u001b[0m\n\u001b[1;32m   1567\u001b[0m         \u001b[0mbound\u001b[0m \u001b[0;34m=\u001b[0m \u001b[0mnew_sig\u001b[0m\u001b[0;34m.\u001b[0m\u001b[0mbind\u001b[0m\u001b[0;34m(\u001b[0m\u001b[0max\u001b[0m\u001b[0;34m,\u001b[0m \u001b[0;34m*\u001b[0m\u001b[0margs\u001b[0m\u001b[0;34m,\u001b[0m \u001b[0;34m**\u001b[0m\u001b[0mkwargs\u001b[0m\u001b[0;34m)\u001b[0m\u001b[0;34m\u001b[0m\u001b[0;34m\u001b[0m\u001b[0m\n",
            "\u001b[0;32m/usr/local/lib/python3.8/dist-packages/matplotlib/cbook/deprecation.py\u001b[0m in \u001b[0;36mwrapper\u001b[0;34m(*args, **kwargs)\u001b[0m\n\u001b[1;32m    356\u001b[0m                 \u001b[0;34mf\"%(removal)s.  If any parameter follows {name!r}, they \"\u001b[0m\u001b[0;34m\u001b[0m\u001b[0;34m\u001b[0m\u001b[0m\n\u001b[1;32m    357\u001b[0m                 f\"should be pass as keyword, not positionally.\")\n\u001b[0;32m--> 358\u001b[0;31m         \u001b[0;32mreturn\u001b[0m \u001b[0mfunc\u001b[0m\u001b[0;34m(\u001b[0m\u001b[0;34m*\u001b[0m\u001b[0margs\u001b[0m\u001b[0;34m,\u001b[0m \u001b[0;34m**\u001b[0m\u001b[0mkwargs\u001b[0m\u001b[0;34m)\u001b[0m\u001b[0;34m\u001b[0m\u001b[0;34m\u001b[0m\u001b[0m\n\u001b[0m\u001b[1;32m    359\u001b[0m \u001b[0;34m\u001b[0m\u001b[0m\n\u001b[1;32m    360\u001b[0m     \u001b[0;32mreturn\u001b[0m \u001b[0mwrapper\u001b[0m\u001b[0;34m\u001b[0m\u001b[0;34m\u001b[0m\u001b[0m\n",
            "\u001b[0;32m/usr/local/lib/python3.8/dist-packages/matplotlib/axes/_axes.py\u001b[0m in \u001b[0;36mscatter\u001b[0;34m(self, x, y, s, c, marker, cmap, norm, vmin, vmax, alpha, linewidths, verts, edgecolors, plotnonfinite, **kwargs)\u001b[0m\n\u001b[1;32m   4389\u001b[0m         \u001b[0my\u001b[0m \u001b[0;34m=\u001b[0m \u001b[0mnp\u001b[0m\u001b[0;34m.\u001b[0m\u001b[0mma\u001b[0m\u001b[0;34m.\u001b[0m\u001b[0mravel\u001b[0m\u001b[0;34m(\u001b[0m\u001b[0my\u001b[0m\u001b[0;34m)\u001b[0m\u001b[0;34m\u001b[0m\u001b[0;34m\u001b[0m\u001b[0m\n\u001b[1;32m   4390\u001b[0m         \u001b[0;32mif\u001b[0m \u001b[0mx\u001b[0m\u001b[0;34m.\u001b[0m\u001b[0msize\u001b[0m \u001b[0;34m!=\u001b[0m \u001b[0my\u001b[0m\u001b[0;34m.\u001b[0m\u001b[0msize\u001b[0m\u001b[0;34m:\u001b[0m\u001b[0;34m\u001b[0m\u001b[0;34m\u001b[0m\u001b[0m\n\u001b[0;32m-> 4391\u001b[0;31m             \u001b[0;32mraise\u001b[0m \u001b[0mValueError\u001b[0m\u001b[0;34m(\u001b[0m\u001b[0;34m\"x and y must be the same size\"\u001b[0m\u001b[0;34m)\u001b[0m\u001b[0;34m\u001b[0m\u001b[0;34m\u001b[0m\u001b[0m\n\u001b[0m\u001b[1;32m   4392\u001b[0m \u001b[0;34m\u001b[0m\u001b[0m\n\u001b[1;32m   4393\u001b[0m         \u001b[0;32mif\u001b[0m \u001b[0ms\u001b[0m \u001b[0;32mis\u001b[0m \u001b[0;32mNone\u001b[0m\u001b[0;34m:\u001b[0m\u001b[0;34m\u001b[0m\u001b[0;34m\u001b[0m\u001b[0m\n",
            "\u001b[0;31mValueError\u001b[0m: x and y must be the same size"
          ]
        },
        {
          "output_type": "display_data",
          "data": {
            "text/plain": [
              "<Figure size 432x288 with 1 Axes>"
            ],
            "image/png": "[encoded data removed]"
          },
          "metadata": {
            "needs_background": "light"
          }
        }
      ]
    },
    {
      "cell_type": "code",
      "source": [],
      "metadata": {
        "id": "lusVMJsIPVp6"
      },
      "execution_count": 62,
      "outputs": []
    },
    {
      "cell_type": "code",
      "source": [],
      "metadata": {
        "id": "htSFsNu0VFb4"
      },
      "execution_count": 62,
      "outputs": []
    },
    {
      "cell_type": "code",
      "source": [],
      "metadata": {
        "id": "ZEVrcSwUVFwE"
      },
      "execution_count": 62,
      "outputs": []
    },
    {
      "cell_type": "code",
      "source": [],
      "metadata": {
        "id": "KlmrxL8YVF-i"
      },
      "execution_count": 62,
      "outputs": []
    },
    {
      "cell_type": "code",
      "source": [
        "# define spectrally augmented autoencoder\n",
        "import jax\n",
        "import jax.numpy as jnp\n",
        "import flax.linen as nn\n",
        "\n",
        "\n",
        "class Encoder(nn.Module):\n",
        "  output_dim : int\n",
        "\n",
        "  def setup(self):\n",
        "    self.layer1 = nn.Dense(self.output_dim)\n",
        "  \n",
        "  def __call__(self,X):\n",
        "    return nn.relu(self.layer1(X))\n",
        "\n",
        "class Decoder(nn.Module):\n",
        "  output_dim : int\n",
        "  def setup(self):\n",
        "    self.layer2 = nn.Dense(self.output_dim)\n",
        "  \n",
        "  def __call__(self,X):\n",
        "    return self.layer2(X)\n",
        "\n",
        "class Autoencoder(nn.Module):\n",
        "  io_dim : int\n",
        "  n_latents : int\n",
        "\n",
        "\n",
        "  def setup(self):\n",
        "    self.encoder = Encoder(n_latents)\n",
        "    self.decoder = Decoder(io_dim)\n",
        "\n",
        "  def __call__(self,X):\n",
        "    return self.decoder(self.encoder(X))\n",
        "\n",
        "\n",
        "\n",
        "class SpectralAutoencoder(nn.Module):\n",
        "  io_dim : int\n",
        "  n_latents : int\n",
        "  n_evecs : int\n",
        "  \n",
        "  def setup(self):\n",
        "    self.latent_encoder = Encoder(self.n_latents)\n",
        "    self.spectral_encoder = Encoder(self.n_evecs)\n",
        "    self.decoder = Decoder(self.io_dim)\n",
        "\n",
        "\n",
        "  def __call__(self,X,evecs):\n",
        "    latent = self.latent_encoder(X)\n",
        "    spectral_approximant = self.spectral_encoder(X)\n",
        "    data_approximant = self.decoder(jnp.hstack([latent,spectral_approximant]))\n",
        "    return spectral_approximant, data_approximant\n",
        "\n",
        "\n",
        "\n",
        "\n"
      ],
      "metadata": {
        "id": "gM1gGcdiPOHK"
      },
      "execution_count": 63,
      "outputs": []
    },
    {
      "cell_type": "code",
      "source": [
        "\n",
        "io_dim = X.shape[1]\n",
        "n_evecs = 5\n",
        "n_latents = 2\n",
        "selected_evecs = evecs[:,-n_evecs-1:-1]\n",
        "\n"
      ],
      "metadata": {
        "id": "70ndjA54aQ1B"
      },
      "execution_count": 64,
      "outputs": []
    },
    {
      "cell_type": "code",
      "source": [],
      "metadata": {
        "id": "knglFWEnXnuc"
      },
      "execution_count": 64,
      "outputs": []
    },
    {
      "cell_type": "code",
      "source": [],
      "metadata": {
        "id": "UUhvN6XQgXq0"
      },
      "execution_count": 64,
      "outputs": []
    },
    {
      "cell_type": "code",
      "source": [
        "\n",
        "n = 1000\n",
        "spectral = SpectralAutoencoder(io_dim,n_latents,n_evecs)\n",
        "parameters = spectral.init(jax.random.PRNGKey(108), X, selected_evecs)\n",
        "\n",
        "@jax.jit\n",
        "def data_encoding_mse(parameters, X, selected_evecs):\n",
        "  evec_weight = jnp.ones(n_evecs)\n",
        "  spectral_approximant, data_approximant = spectral.apply(parameters, X, selected_evecs)\n",
        "  data_encoding_mse = jnp.mean((data_approximant - X)**2)\n",
        "  return data_encoding_mse\n",
        "\n",
        "@jax.jit\n",
        "def spectral_mse(parameters, X, selected_evecs):\n",
        "  evec_weight = jnp.ones(n_evecs)\n",
        "  spectral_approximant, data_approximant = spectral.apply(parameters, X, selected_evecs)\n",
        "  spectral_encoding_mse = jnp.mean(evec_weight*(spectral_approximant - selected_evecs)**2)\n",
        "  data_encoding_mse = jnp.mean((data_approximant - X)**2)\n",
        "  return spectral_encoding_mse + data_encoding_mse\n",
        "\n",
        "optimizer = optax.adam(0.01)\n",
        "state = optimizer.init(parameters)\n",
        "\n",
        "out_spectral = []\n",
        "for i in tqdm.tqdm(range(n)):\n",
        "  _,grad = jax.value_and_grad(spectral_mse)(parameters, X, selected_evecs)\n",
        "  value = data_encoding_mse(parameters, X, selected_evecs)\n",
        "  out_spectral.append(value)\n",
        "  updates,state = optimizer.update(grad, state,parameters)\n",
        "  parameters = optax.apply_updates(parameters,updates)\n",
        "\n",
        "\n",
        "\n",
        "\n",
        "\n",
        "\n",
        "\n",
        "\n",
        "latent_match = Autoencoder(io_dim, n_latents)\n",
        "parameters = latent_match.init(jax.random.PRNGKey(108),X)\n",
        "\n",
        "\n",
        "@jax.jit\n",
        "def latent_match_mse(parameters, X):\n",
        "  return np.mean((latent_match.apply(parameters, X) - X)**2)\n",
        "\n",
        "optimizer = optax.adam(0.01)\n",
        "state = optimizer.init(parameters)\n",
        "\n",
        "\n",
        "out_latent_match = []\n",
        "for i in tqdm.tqdm(range(n)):\n",
        "  value,grad = jax.value_and_grad(latent_match_mse)(parameters, X)\n",
        "  out_latent_match.append(value)\n",
        "  updates,state = optimizer.update(grad, state,parameters)\n",
        "  parameters = optax.apply_updates(parameters,updates)\n",
        "\n",
        "\n",
        "\n",
        "\n",
        "\n",
        "\n",
        "total_match = Autoencoder(io_dim, n_latents+n_evecs)\n",
        "parameters = latent_match.init(jax.random.PRNGKey(108),X)\n",
        "  \n",
        "@jax.jit\n",
        "def total_match_mse(parameters, X):\n",
        "  return np.mean((total_match.apply(parameters, X) - X)**2)\n",
        "\n",
        "\n",
        "out_total_match = []\n",
        "for i in tqdm.tqdm(range(n)):\n",
        "  value,grad = jax.value_and_grad(latent_match_mse)(parameters, X)\n",
        "  out_total_match.append(value)\n",
        "  updates,state = optimizer.update(grad, state,parameters)\n",
        "  parameters = optax.apply_updates(parameters,updates)"
      ],
      "metadata": {
        "colab": {
          "base_uri": "https://localhost:8080/"
        },
        "id": "D-s_nvctOKyW",
        "outputId": "7efb46c3-517d-4a7c-bc86-dba54c9d8421"
      },
      "execution_count": 65,
      "outputs": [
        {
          "output_type": "stream",
          "name": "stderr",
          "text": [
            "100%|██████████| 1000/1000 [00:12<00:00, 76.93it/s]\n",
            "100%|██████████| 1000/1000 [00:09<00:00, 110.62it/s]\n",
            "100%|██████████| 1000/1000 [00:06<00:00, 149.53it/s]\n"
          ]
        }
      ]
    },
    {
      "cell_type": "code",
      "source": [
        "spectral_art = plt.scatter(range(400, n),out_spectral[400:])\n",
        "latent_match_art = plt.scatter(range(400, n),out_latent_match[400:])\n",
        "total_match_art = plt.scatter(range(400, n),out_total_match[400:])\n",
        "plt.legend((spectral_art, latent_match_art, total_match_art), ('spectral', 'latent_match', 'total_match'), )"
      ],
      "metadata": {
        "colab": {
          "base_uri": "https://localhost:8080/",
          "height": 283
        },
        "id": "jiXUjiGnixuL",
        "outputId": "47296de3-e7b1-4a2b-9756-c4ac82b38e0a"
      },
      "execution_count": 66,
      "outputs": [
        {
          "output_type": "execute_result",
          "data": {
            "text/plain": [
              "<matplotlib.legend.Legend at 0x7effe1e6c1f0>"
            ]
          },
          "metadata": {},
          "execution_count": 66
        },
        {
          "output_type": "display_data",
          "data": {
            "text/plain": [
              "<Figure size 432x288 with 1 Axes>"
            ],
            "image/png": "[encoded data removed]"
          },
          "metadata": {
            "needs_background": "light"
          }
        }
      ]
    },
    {
      "cell_type": "code",
      "source": [],
      "metadata": {
        "id": "cUuWt2cZvx95"
      },
      "execution_count": 38,
      "outputs": []
    },
    {
      "cell_type": "code",
      "source": [
        "fig,ax = plt.subplots()\n",
        "ax.set_yscale('log')\n",
        "spectral_art = ax.scatter(range( n),out_spectral)\n",
        "latent_match_art = ax.scatter(range(n),out_latent_match)\n",
        "total_match_art = ax.scatter(range(n),out_total_match)\n",
        "ax.set_xlabel(\"epoch\")\n",
        "ax.set_ylabel(\"loss\")\n",
        "fig.suptitle(dataset_name)\n",
        "plt.legend((spectral_art, latent_match_art, total_match_art), ('eigenvector augmented', 'same number hidden nodes', 'same number total latent'))"
      ],
      "metadata": {
        "colab": {
          "base_uri": "https://localhost:8080/",
          "height": 554
        },
        "id": "okwL9JWpuUUk",
        "outputId": "71c7b3c6-1ae5-4668-a742-3858536ea77b"
      },
      "execution_count": 69,
      "outputs": [
        {
          "output_type": "error",
          "ename": "NameError",
          "evalue": "ignored",
          "traceback": [
            "\u001b[0;31m---------------------------------------------------------------------------\u001b[0m",
            "\u001b[0;31mNameError\u001b[0m                                 Traceback (most recent call last)",
            "\u001b[0;32m<ipython-input-69-388945722062>\u001b[0m in \u001b[0;36m<module>\u001b[0;34m\u001b[0m\n\u001b[1;32m      6\u001b[0m \u001b[0max\u001b[0m\u001b[0;34m.\u001b[0m\u001b[0mset_xlabel\u001b[0m\u001b[0;34m(\u001b[0m\u001b[0;34m\"epoch\"\u001b[0m\u001b[0;34m)\u001b[0m\u001b[0;34m\u001b[0m\u001b[0;34m\u001b[0m\u001b[0m\n\u001b[1;32m      7\u001b[0m \u001b[0max\u001b[0m\u001b[0;34m.\u001b[0m\u001b[0mset_ylabel\u001b[0m\u001b[0;34m(\u001b[0m\u001b[0;34m\"loss\"\u001b[0m\u001b[0;34m)\u001b[0m\u001b[0;34m\u001b[0m\u001b[0;34m\u001b[0m\u001b[0m\n\u001b[0;32m----> 8\u001b[0;31m \u001b[0mfig\u001b[0m\u001b[0;34m.\u001b[0m\u001b[0msuptitle\u001b[0m\u001b[0;34m(\u001b[0m\u001b[0mdataset_name\u001b[0m\u001b[0;34m)\u001b[0m\u001b[0;34m\u001b[0m\u001b[0;34m\u001b[0m\u001b[0m\n\u001b[0m\u001b[1;32m      9\u001b[0m \u001b[0mplt\u001b[0m\u001b[0;34m.\u001b[0m\u001b[0mlegend\u001b[0m\u001b[0;34m(\u001b[0m\u001b[0;34m(\u001b[0m\u001b[0mspectral_art\u001b[0m\u001b[0;34m,\u001b[0m \u001b[0mlatent_match_art\u001b[0m\u001b[0;34m,\u001b[0m \u001b[0mtotal_match_art\u001b[0m\u001b[0;34m)\u001b[0m\u001b[0;34m,\u001b[0m \u001b[0;34m(\u001b[0m\u001b[0;34m'eigenvector augmented'\u001b[0m\u001b[0;34m,\u001b[0m \u001b[0;34m'same number hidden nodes'\u001b[0m\u001b[0;34m,\u001b[0m \u001b[0;34m'same number total latent'\u001b[0m\u001b[0;34m)\u001b[0m\u001b[0;34m)\u001b[0m\u001b[0;34m\u001b[0m\u001b[0;34m\u001b[0m\u001b[0m\n",
            "\u001b[0;31mNameError\u001b[0m: name 'dataset_name' is not defined"
          ]
        },
        {
          "output_type": "display_data",
          "data": {
            "text/plain": [
              "<Figure size 432x288 with 1 Axes>"
            ],
            "image/png": "[encoded data removed]"
          },
          "metadata": {
            "needs_background": "light"
          }
        }
      ]
    },
    {
      "cell_type": "code",
      "source": [],
      "metadata": {
        "colab": {
          "base_uri": "https://localhost:8080/"
        },
        "id": "wxGsI46ujZ6H",
        "outputId": "5b500b6a-9384-44b3-f1f8-f7d66ae51deb"
      },
      "execution_count": 423,
      "outputs": [
        {
          "output_type": "execute_result",
          "data": {
            "text/plain": [
              "[DeviceArray(583.99585, dtype=float32),\n",
              " DeviceArray(578.9689, dtype=float32),\n",
              " DeviceArray(573.97314, dtype=float32),\n",
              " DeviceArray(569.0091, dtype=float32),\n",
              " DeviceArray(564.077, dtype=float32),\n",
              " DeviceArray(559.17725, dtype=float32),\n",
              " DeviceArray(554.3104, dtype=float32),\n",
              " DeviceArray(549.4766, dtype=float32),\n",
              " DeviceArray(544.6764, dtype=float32),\n",
              " DeviceArray(539.9099, dtype=float32),\n",
              " DeviceArray(535.17755, dtype=float32),\n",
              " DeviceArray(530.4794, dtype=float32),\n",
              " DeviceArray(525.8159, dtype=float32),\n",
              " DeviceArray(521.18713, dtype=float32),\n",
              " DeviceArray(516.5935, dtype=float32),\n",
              " DeviceArray(512.0351, dtype=float32),\n",
              " DeviceArray(507.5121, dtype=float32),\n",
              " DeviceArray(503.02448, dtype=float32),\n",
              " DeviceArray(498.5726, dtype=float32),\n",
              " DeviceArray(494.1565, dtype=float32),\n",
              " DeviceArray(489.7761, dtype=float32),\n",
              " DeviceArray(485.43164, dtype=float32),\n",
              " DeviceArray(481.12314, dtype=float32),\n",
              " DeviceArray(476.8506, dtype=float32),\n",
              " DeviceArray(472.61395, dtype=float32),\n",
              " DeviceArray(468.4132, dtype=float32),\n",
              " DeviceArray(464.24838, dtype=float32),\n",
              " DeviceArray(460.1194, dtype=float32),\n",
              " DeviceArray(456.02615, dtype=float32),\n",
              " DeviceArray(451.96866, dtype=float32),\n",
              " DeviceArray(447.94662, dtype=float32),\n",
              " DeviceArray(443.96014, dtype=float32),\n",
              " DeviceArray(440.00897, dtype=float32),\n",
              " DeviceArray(436.093, dtype=float32),\n",
              " DeviceArray(432.21207, dtype=float32),\n",
              " DeviceArray(428.36603, dtype=float32),\n",
              " DeviceArray(424.55466, dtype=float32),\n",
              " DeviceArray(420.77777, dtype=float32),\n",
              " DeviceArray(417.03528, dtype=float32),\n",
              " DeviceArray(413.3269, dtype=float32),\n",
              " DeviceArray(409.65244, dtype=float32),\n",
              " DeviceArray(406.01166, dtype=float32),\n",
              " DeviceArray(402.40427, dtype=float32),\n",
              " DeviceArray(398.8302, dtype=float32),\n",
              " DeviceArray(395.2891, dtype=float32),\n",
              " DeviceArray(391.78076, dtype=float32),\n",
              " DeviceArray(388.305, dtype=float32),\n",
              " DeviceArray(384.86148, dtype=float32),\n",
              " DeviceArray(381.45, dtype=float32),\n",
              " DeviceArray(378.0702, dtype=float32),\n",
              " DeviceArray(374.72202, dtype=float32),\n",
              " DeviceArray(371.4051, dtype=float32),\n",
              " DeviceArray(368.1192, dtype=float32),\n",
              " DeviceArray(364.86392, dtype=float32),\n",
              " DeviceArray(361.63913, dtype=float32),\n",
              " DeviceArray(358.44458, dtype=float32),\n",
              " DeviceArray(355.27994, dtype=float32),\n",
              " DeviceArray(352.145, dtype=float32),\n",
              " DeviceArray(349.0394, dtype=float32),\n",
              " DeviceArray(345.963, dtype=float32),\n",
              " DeviceArray(342.91553, dtype=float32),\n",
              " DeviceArray(339.89664, dtype=float32),\n",
              " DeviceArray(336.90613, dtype=float32),\n",
              " DeviceArray(333.94376, dtype=float32),\n",
              " DeviceArray(331.0092, dtype=float32),\n",
              " DeviceArray(328.10217, dtype=float32),\n",
              " DeviceArray(325.22247, dtype=float32),\n",
              " DeviceArray(322.36984, dtype=float32),\n",
              " DeviceArray(319.544, dtype=float32),\n",
              " DeviceArray(316.74475, dtype=float32),\n",
              " DeviceArray(313.97177, dtype=float32),\n",
              " DeviceArray(311.22482, dtype=float32),\n",
              " DeviceArray(308.50375, dtype=float32),\n",
              " DeviceArray(305.8082, dtype=float32),\n",
              " DeviceArray(303.13788, dtype=float32),\n",
              " DeviceArray(300.49268, dtype=float32),\n",
              " DeviceArray(297.87228, dtype=float32),\n",
              " DeviceArray(295.27646, dtype=float32),\n",
              " DeviceArray(292.70493, dtype=float32),\n",
              " DeviceArray(290.15756, dtype=float32),\n",
              " DeviceArray(287.634, dtype=float32),\n",
              " DeviceArray(285.1342, dtype=float32),\n",
              " DeviceArray(282.65775, dtype=float32),\n",
              " DeviceArray(280.20447, dtype=float32),\n",
              " DeviceArray(277.77417, dtype=float32),\n",
              " DeviceArray(275.36658, dtype=float32),\n",
              " DeviceArray(272.98148, dtype=float32),\n",
              " DeviceArray(270.61877, dtype=float32),\n",
              " DeviceArray(268.27798, dtype=float32),\n",
              " DeviceArray(265.95914, dtype=float32),\n",
              " DeviceArray(263.6619, dtype=float32),\n",
              " DeviceArray(261.38617, dtype=float32),\n",
              " DeviceArray(259.13156, dtype=float32),\n",
              " DeviceArray(256.89807, dtype=float32),\n",
              " DeviceArray(254.68532, dtype=float32),\n",
              " DeviceArray(252.49323, dtype=float32),\n",
              " DeviceArray(250.32156, dtype=float32),\n",
              " DeviceArray(248.17006, dtype=float32),\n",
              " DeviceArray(246.03857, dtype=float32),\n",
              " DeviceArray(243.9269, dtype=float32),\n",
              " DeviceArray(241.83482, dtype=float32),\n",
              " DeviceArray(239.76218, dtype=float32),\n",
              " DeviceArray(237.70882, dtype=float32),\n",
              " DeviceArray(235.67451, dtype=float32),\n",
              " DeviceArray(233.65907, dtype=float32),\n",
              " DeviceArray(231.66232, dtype=float32),\n",
              " DeviceArray(229.68405, dtype=float32),\n",
              " DeviceArray(227.7241, dtype=float32),\n",
              " DeviceArray(225.78227, dtype=float32),\n",
              " DeviceArray(223.85846, dtype=float32),\n",
              " DeviceArray(221.95242, dtype=float32),\n",
              " DeviceArray(220.06401, dtype=float32),\n",
              " DeviceArray(218.19298, dtype=float32),\n",
              " DeviceArray(216.3393, dtype=float32),\n",
              " DeviceArray(214.5027, dtype=float32),\n",
              " DeviceArray(212.68307, dtype=float32),\n",
              " DeviceArray(210.8802, dtype=float32),\n",
              " DeviceArray(209.09396, dtype=float32),\n",
              " DeviceArray(207.32417, dtype=float32),\n",
              " DeviceArray(205.57066, dtype=float32),\n",
              " DeviceArray(203.83333, dtype=float32),\n",
              " DeviceArray(202.11198, dtype=float32),\n",
              " DeviceArray(200.4064, dtype=float32),\n",
              " DeviceArray(198.71654, dtype=float32),\n",
              " DeviceArray(197.04218, dtype=float32),\n",
              " DeviceArray(195.38322, dtype=float32),\n",
              " DeviceArray(193.73947, dtype=float32),\n",
              " DeviceArray(192.11082, dtype=float32),\n",
              " DeviceArray(190.4971, dtype=float32),\n",
              " DeviceArray(188.89813, dtype=float32),\n",
              " DeviceArray(187.31386, dtype=float32),\n",
              " DeviceArray(185.74406, dtype=float32),\n",
              " DeviceArray(184.18863, dtype=float32),\n",
              " DeviceArray(182.64745, dtype=float32),\n",
              " DeviceArray(181.12035, dtype=float32),\n",
              " DeviceArray(179.60722, dtype=float32),\n",
              " DeviceArray(178.10788, dtype=float32),\n",
              " DeviceArray(176.62228, dtype=float32),\n",
              " DeviceArray(175.15019, dtype=float32),\n",
              " DeviceArray(173.69154, dtype=float32),\n",
              " DeviceArray(172.2462, dtype=float32),\n",
              " DeviceArray(170.814, dtype=float32),\n",
              " DeviceArray(169.39482, dtype=float32),\n",
              " DeviceArray(167.9886, dtype=float32),\n",
              " DeviceArray(166.59517, dtype=float32),\n",
              " DeviceArray(165.21442, dtype=float32),\n",
              " DeviceArray(163.84616, dtype=float32),\n",
              " DeviceArray(162.49042, dtype=float32),\n",
              " DeviceArray(161.14694, dtype=float32),\n",
              " DeviceArray(159.81567, dtype=float32),\n",
              " DeviceArray(158.4965, dtype=float32),\n",
              " DeviceArray(157.18927, dtype=float32),\n",
              " DeviceArray(155.89384, dtype=float32),\n",
              " DeviceArray(154.61021, dtype=float32),\n",
              " DeviceArray(153.33817, dtype=float32),\n",
              " DeviceArray(152.07767, dtype=float32),\n",
              " DeviceArray(150.82854, dtype=float32),\n",
              " DeviceArray(149.59077, dtype=float32),\n",
              " DeviceArray(148.36414, dtype=float32),\n",
              " DeviceArray(147.14859, dtype=float32),\n",
              " DeviceArray(145.944, dtype=float32),\n",
              " DeviceArray(144.7503, dtype=float32),\n",
              " DeviceArray(143.56738, dtype=float32),\n",
              " DeviceArray(142.39511, dtype=float32),\n",
              " DeviceArray(141.23341, dtype=float32),\n",
              " DeviceArray(140.08218, dtype=float32),\n",
              " DeviceArray(138.94131, dtype=float32),\n",
              " DeviceArray(137.8107, dtype=float32),\n",
              " DeviceArray(136.69023, dtype=float32),\n",
              " DeviceArray(135.57986, dtype=float32),\n",
              " DeviceArray(134.47948, dtype=float32),\n",
              " DeviceArray(133.38898, dtype=float32),\n",
              " DeviceArray(132.30827, dtype=float32),\n",
              " DeviceArray(131.23724, dtype=float32),\n",
              " DeviceArray(130.17581, dtype=float32),\n",
              " DeviceArray(129.12395, dtype=float32),\n",
              " DeviceArray(128.08144, dtype=float32),\n",
              " DeviceArray(127.04827, dtype=float32),\n",
              " DeviceArray(126.02439, dtype=float32),\n",
              " DeviceArray(125.00966, dtype=float32),\n",
              " DeviceArray(124.00399, dtype=float32),\n",
              " DeviceArray(123.00733, dtype=float32),\n",
              " DeviceArray(122.01956, dtype=float32),\n",
              " DeviceArray(121.04064, dtype=float32),\n",
              " DeviceArray(120.07038, dtype=float32),\n",
              " DeviceArray(119.10882, dtype=float32),\n",
              " DeviceArray(118.15584, dtype=float32),\n",
              " DeviceArray(117.211334, dtype=float32),\n",
              " DeviceArray(116.27524, dtype=float32),\n",
              " DeviceArray(115.347496, dtype=float32),\n",
              " DeviceArray(114.42801, dtype=float32),\n",
              " DeviceArray(113.51671, dtype=float32),\n",
              " DeviceArray(112.61347, dtype=float32),\n",
              " DeviceArray(111.718315, dtype=float32),\n",
              " DeviceArray(110.83109, dtype=float32),\n",
              " DeviceArray(109.95174, dtype=float32),\n",
              " DeviceArray(109.08016, dtype=float32),\n",
              " DeviceArray(108.21633, dtype=float32),\n",
              " DeviceArray(107.360146, dtype=float32),\n",
              " DeviceArray(106.51155, dtype=float32),\n",
              " DeviceArray(105.67047, dtype=float32),\n",
              " DeviceArray(104.83683, dtype=float32),\n",
              " DeviceArray(104.010544, dtype=float32),\n",
              " DeviceArray(103.191605, dtype=float32),\n",
              " DeviceArray(102.3799, dtype=float32),\n",
              " DeviceArray(101.57536, dtype=float32),\n",
              " DeviceArray(100.77791, dtype=float32),\n",
              " DeviceArray(99.98749, dtype=float32),\n",
              " DeviceArray(99.20405, dtype=float32),\n",
              " DeviceArray(98.42752, dtype=float32),\n",
              " DeviceArray(97.65783, dtype=float32),\n",
              " DeviceArray(96.89492, dtype=float32),\n",
              " DeviceArray(96.1387, dtype=float32),\n",
              " DeviceArray(95.38915, dtype=float32),\n",
              " DeviceArray(94.64619, dtype=float32),\n",
              " DeviceArray(93.909744, dtype=float32),\n",
              " DeviceArray(93.17977, dtype=float32),\n",
              " DeviceArray(92.45624, dtype=float32),\n",
              " DeviceArray(91.73902, dtype=float32),\n",
              " DeviceArray(91.028114, dtype=float32),\n",
              " DeviceArray(90.323425, dtype=float32),\n",
              " DeviceArray(89.62489, dtype=float32),\n",
              " DeviceArray(88.932495, dtype=float32),\n",
              " DeviceArray(88.24616, dtype=float32),\n",
              " DeviceArray(87.565834, dtype=float32),\n",
              " DeviceArray(86.89144, dtype=float32),\n",
              " DeviceArray(86.22295, dtype=float32),\n",
              " DeviceArray(85.56027, dtype=float32),\n",
              " DeviceArray(84.90338, dtype=float32),\n",
              " DeviceArray(84.25222, dtype=float32),\n",
              " DeviceArray(83.60674, dtype=float32),\n",
              " DeviceArray(82.966896, dtype=float32),\n",
              " DeviceArray(82.33261, dtype=float32),\n",
              " DeviceArray(81.70386, dtype=float32),\n",
              " DeviceArray(81.08055, dtype=float32),\n",
              " DeviceArray(80.46271, dtype=float32),\n",
              " DeviceArray(79.850204, dtype=float32),\n",
              " DeviceArray(79.24302, dtype=float32),\n",
              " DeviceArray(78.64111, dtype=float32),\n",
              " DeviceArray(78.044426, dtype=float32),\n",
              " DeviceArray(77.45293, dtype=float32),\n",
              " DeviceArray(76.866554, dtype=float32),\n",
              " DeviceArray(76.285255, dtype=float32),\n",
              " DeviceArray(75.708984, dtype=float32),\n",
              " DeviceArray(75.13769, dtype=float32),\n",
              " DeviceArray(74.57136, dtype=float32),\n",
              " DeviceArray(74.00991, dtype=float32),\n",
              " DeviceArray(73.45331, dtype=float32),\n",
              " DeviceArray(72.90151, dtype=float32),\n",
              " DeviceArray(72.35447, dtype=float32),\n",
              " DeviceArray(71.81215, dtype=float32),\n",
              " DeviceArray(71.27452, dtype=float32),\n",
              " DeviceArray(70.74151, dtype=float32),\n",
              " DeviceArray(70.2131, dtype=float32),\n",
              " DeviceArray(69.689224, dtype=float32),\n",
              " DeviceArray(69.169846, dtype=float32),\n",
              " DeviceArray(68.65494, dtype=float32),\n",
              " DeviceArray(68.14444, dtype=float32),\n",
              " DeviceArray(67.63835, dtype=float32),\n",
              " DeviceArray(67.1366, dtype=float32),\n",
              " DeviceArray(66.63913, dtype=float32),\n",
              " DeviceArray(66.14594, dtype=float32),\n",
              " DeviceArray(65.656975, dtype=float32),\n",
              " DeviceArray(65.17217, dtype=float32),\n",
              " DeviceArray(64.691536, dtype=float32),\n",
              " DeviceArray(64.21499, dtype=float32),\n",
              " DeviceArray(63.742527, dtype=float32),\n",
              " DeviceArray(63.2741, dtype=float32),\n",
              " DeviceArray(62.80968, dtype=float32),\n",
              " DeviceArray(62.34921, dtype=float32),\n",
              " DeviceArray(61.892666, dtype=float32),\n",
              " DeviceArray(61.440018, dtype=float32),\n",
              " DeviceArray(60.99123, dtype=float32),\n",
              " DeviceArray(60.546246, dtype=float32),\n",
              " DeviceArray(60.105038, dtype=float32),\n",
              " DeviceArray(59.667587, dtype=float32),\n",
              " DeviceArray(59.233856, dtype=float32),\n",
              " DeviceArray(58.80381, dtype=float32),\n",
              " DeviceArray(58.377403, dtype=float32),\n",
              " DeviceArray(57.954613, dtype=float32),\n",
              " DeviceArray(57.535397, dtype=float32),\n",
              " DeviceArray(57.119736, dtype=float32),\n",
              " DeviceArray(56.707607, dtype=float32),\n",
              " DeviceArray(56.298946, dtype=float32),\n",
              " DeviceArray(55.893745, dtype=float32),\n",
              " DeviceArray(55.491955, dtype=float32),\n",
              " DeviceArray(55.09357, dtype=float32),\n",
              " DeviceArray(54.698547, dtype=float32),\n",
              " DeviceArray(54.306847, dtype=float32),\n",
              " DeviceArray(53.91844, dtype=float32),\n",
              " DeviceArray(53.533325, dtype=float32),\n",
              " DeviceArray(53.15144, dtype=float32),\n",
              " DeviceArray(52.77277, dtype=float32),\n",
              " DeviceArray(52.397278, dtype=float32),\n",
              " DeviceArray(52.02494, dtype=float32),\n",
              " DeviceArray(51.655712, dtype=float32),\n",
              " DeviceArray(51.28958, dtype=float32),\n",
              " DeviceArray(50.926533, dtype=float32),\n",
              " DeviceArray(50.5665, dtype=float32),\n",
              " DeviceArray(50.209488, dtype=float32),\n",
              " DeviceArray(49.855465, dtype=float32),\n",
              " DeviceArray(49.504417, dtype=float32),\n",
              " DeviceArray(49.156296, dtype=float32),\n",
              " DeviceArray(48.811073, dtype=float32),\n",
              " DeviceArray(48.468723, dtype=float32),\n",
              " DeviceArray(48.12923, dtype=float32),\n",
              " DeviceArray(47.79255, dtype=float32),\n",
              " DeviceArray(47.4587, dtype=float32),\n",
              " DeviceArray(47.12761, dtype=float32),\n",
              " DeviceArray(46.799267, dtype=float32),\n",
              " DeviceArray(46.473663, dtype=float32),\n",
              " DeviceArray(46.15078, dtype=float32),\n",
              " DeviceArray(45.83054, dtype=float32),\n",
              " DeviceArray(45.512978, dtype=float32),\n",
              " DeviceArray(45.19804, dtype=float32),\n",
              " DeviceArray(44.885696, dtype=float32),\n",
              " DeviceArray(44.57596, dtype=float32),\n",
              " DeviceArray(44.26876, dtype=float32),\n",
              " DeviceArray(43.964104, dtype=float32),\n",
              " DeviceArray(43.661953, dtype=float32),\n",
              " DeviceArray(43.36231, dtype=float32),\n",
              " DeviceArray(43.065136, dtype=float32),\n",
              " DeviceArray(42.7704, dtype=float32),\n",
              " DeviceArray(42.478092, dtype=float32),\n",
              " DeviceArray(42.188187, dtype=float32),\n",
              " DeviceArray(41.90066, dtype=float32),\n",
              " DeviceArray(41.615505, dtype=float32),\n",
              " DeviceArray(41.33268, dtype=float32),\n",
              " DeviceArray(41.05218, dtype=float32),\n",
              " DeviceArray(40.77397, dtype=float32),\n",
              " DeviceArray(40.49806, dtype=float32),\n",
              " DeviceArray(40.224392, dtype=float32),\n",
              " DeviceArray(39.95297, dtype=float32),\n",
              " DeviceArray(39.683746, dtype=float32),\n",
              " DeviceArray(39.416737, dtype=float32),\n",
              " DeviceArray(39.151882, dtype=float32),\n",
              " DeviceArray(38.889214, dtype=float32),\n",
              " DeviceArray(38.628666, dtype=float32),\n",
              " DeviceArray(38.37025, dtype=float32),\n",
              " DeviceArray(38.113922, dtype=float32),\n",
              " DeviceArray(37.859684, dtype=float32),\n",
              " DeviceArray(37.60751, dtype=float32),\n",
              " DeviceArray(37.35738, dtype=float32),\n",
              " DeviceArray(37.109276, dtype=float32),\n",
              " DeviceArray(36.86319, dtype=float32),\n",
              " DeviceArray(36.619076, dtype=float32),\n",
              " DeviceArray(36.376953, dtype=float32),\n",
              " DeviceArray(36.13677, dtype=float32),\n",
              " DeviceArray(35.89853, dtype=float32),\n",
              " DeviceArray(35.66222, dtype=float32),\n",
              " DeviceArray(35.42781, dtype=float32),\n",
              " DeviceArray(35.19528, dtype=float32),\n",
              " DeviceArray(34.96463, dtype=float32),\n",
              " DeviceArray(34.735832, dtype=float32),\n",
              " DeviceArray(34.508877, dtype=float32),\n",
              " DeviceArray(34.283733, dtype=float32),\n",
              " DeviceArray(34.06039, dtype=float32),\n",
              " DeviceArray(33.838837, dtype=float32),\n",
              " DeviceArray(33.619072, dtype=float32),\n",
              " DeviceArray(33.401054, dtype=float32),\n",
              " DeviceArray(33.18478, dtype=float32),\n",
              " DeviceArray(32.970226, dtype=float32),\n",
              " DeviceArray(32.757397, dtype=float32),\n",
              " DeviceArray(32.54626, dtype=float32),\n",
              " DeviceArray(32.3368, dtype=float32),\n",
              " DeviceArray(32.128998, dtype=float32),\n",
              " DeviceArray(31.922857, dtype=float32),\n",
              " DeviceArray(31.718357, dtype=float32),\n",
              " DeviceArray(31.515476, dtype=float32),\n",
              " DeviceArray(31.314198, dtype=float32),\n",
              " DeviceArray(31.114517, dtype=float32),\n",
              " DeviceArray(30.91643, dtype=float32),\n",
              " DeviceArray(30.719893, dtype=float32),\n",
              " DeviceArray(30.524908, dtype=float32),\n",
              " DeviceArray(30.331467, dtype=float32),\n",
              " DeviceArray(30.139538, dtype=float32),\n",
              " DeviceArray(29.949131, dtype=float32),\n",
              " DeviceArray(29.760221, dtype=float32),\n",
              " DeviceArray(29.572803, dtype=float32),\n",
              " DeviceArray(29.386856, dtype=float32),\n",
              " DeviceArray(29.202372, dtype=float32),\n",
              " DeviceArray(29.019325, dtype=float32),\n",
              " DeviceArray(28.83772, dtype=float32),\n",
              " DeviceArray(28.657532, dtype=float32),\n",
              " DeviceArray(28.478762, dtype=float32),\n",
              " DeviceArray(28.301376, dtype=float32),\n",
              " DeviceArray(28.125372, dtype=float32),\n",
              " DeviceArray(27.950754, dtype=float32),\n",
              " DeviceArray(27.777489, dtype=float32),\n",
              " DeviceArray(27.605572, dtype=float32),\n",
              " DeviceArray(27.434994, dtype=float32),\n",
              " DeviceArray(27.26574, dtype=float32),\n",
              " DeviceArray(27.097795, dtype=float32),\n",
              " DeviceArray(26.931156, dtype=float32),\n",
              " DeviceArray(26.765808, dtype=float32),\n",
              " DeviceArray(26.60174, dtype=float32),\n",
              " DeviceArray(26.438938, dtype=float32),\n",
              " DeviceArray(26.277395, dtype=float32),\n",
              " DeviceArray(26.117098, dtype=float32),\n",
              " DeviceArray(25.958036, dtype=float32),\n",
              " DeviceArray(25.800192, dtype=float32),\n",
              " DeviceArray(25.643562, dtype=float32),\n",
              " DeviceArray(25.48815, dtype=float32),\n",
              " DeviceArray(25.33393, dtype=float32),\n",
              " DeviceArray(25.180874, dtype=float32),\n",
              " DeviceArray(25.029001, dtype=float32),\n",
              " DeviceArray(24.87829, dtype=float32),\n",
              " DeviceArray(24.72873, dtype=float32),\n",
              " DeviceArray(24.58031, dtype=float32),\n",
              " DeviceArray(24.433025, dtype=float32),\n",
              " DeviceArray(24.286865, dtype=float32),\n",
              " DeviceArray(24.141811, dtype=float32),\n",
              " DeviceArray(23.997858, dtype=float32),\n",
              " DeviceArray(23.855001, dtype=float32),\n",
              " DeviceArray(23.713226, dtype=float32),\n",
              " DeviceArray(23.572529, dtype=float32),\n",
              " DeviceArray(23.432898, dtype=float32),\n",
              " DeviceArray(23.294313, dtype=float32),\n",
              " DeviceArray(23.156786, dtype=float32),\n",
              " DeviceArray(23.020294, dtype=float32),\n",
              " DeviceArray(22.884829, dtype=float32),\n",
              " DeviceArray(22.750387, dtype=float32),\n",
              " DeviceArray(22.616966, dtype=float32),\n",
              " DeviceArray(22.484537, dtype=float32),\n",
              " DeviceArray(22.353107, dtype=float32),\n",
              " DeviceArray(22.22266, dtype=float32),\n",
              " DeviceArray(22.093184, dtype=float32),\n",
              " DeviceArray(21.964684, dtype=float32),\n",
              " DeviceArray(21.837137, dtype=float32),\n",
              " DeviceArray(21.710545, dtype=float32),\n",
              " DeviceArray(21.584904, dtype=float32),\n",
              " DeviceArray(21.460192, dtype=float32),\n",
              " DeviceArray(21.33641, dtype=float32),\n",
              " DeviceArray(21.213545, dtype=float32),\n",
              " DeviceArray(21.091593, dtype=float32),\n",
              " DeviceArray(20.970547, dtype=float32),\n",
              " DeviceArray(20.850399, dtype=float32),\n",
              " DeviceArray(20.731136, dtype=float32),\n",
              " DeviceArray(20.612751, dtype=float32),\n",
              " DeviceArray(20.495243, dtype=float32),\n",
              " DeviceArray(20.378603, dtype=float32),\n",
              " DeviceArray(20.262817, dtype=float32),\n",
              " DeviceArray(20.147888, dtype=float32),\n",
              " DeviceArray(20.033802, dtype=float32),\n",
              " DeviceArray(19.920551, dtype=float32),\n",
              " DeviceArray(19.808134, dtype=float32),\n",
              " DeviceArray(19.696531, dtype=float32),\n",
              " DeviceArray(19.585754, dtype=float32),\n",
              " DeviceArray(19.475782, dtype=float32),\n",
              " DeviceArray(19.366606, dtype=float32),\n",
              " DeviceArray(19.258234, dtype=float32),\n",
              " DeviceArray(19.150644, dtype=float32),\n",
              " DeviceArray(19.043837, dtype=float32),\n",
              " DeviceArray(18.937807, dtype=float32),\n",
              " DeviceArray(18.832542, dtype=float32),\n",
              " DeviceArray(18.72804, dtype=float32),\n",
              " DeviceArray(18.624298, dtype=float32),\n",
              " DeviceArray(18.5213, dtype=float32),\n",
              " DeviceArray(18.419048, dtype=float32),\n",
              " DeviceArray(18.317535, dtype=float32),\n",
              " DeviceArray(18.216747, dtype=float32),\n",
              " DeviceArray(18.116684, dtype=float32),\n",
              " DeviceArray(18.017334, dtype=float32),\n",
              " DeviceArray(17.918709, dtype=float32),\n",
              " DeviceArray(17.820786, dtype=float32),\n",
              " DeviceArray(17.723564, dtype=float32),\n",
              " DeviceArray(17.627024, dtype=float32),\n",
              " DeviceArray(17.531178, dtype=float32),\n",
              " DeviceArray(17.436016, dtype=float32),\n",
              " DeviceArray(17.341532, dtype=float32),\n",
              " DeviceArray(17.247715, dtype=float32),\n",
              " DeviceArray(17.154572, dtype=float32),\n",
              " DeviceArray(17.06208, dtype=float32),\n",
              " DeviceArray(16.97025, dtype=float32),\n",
              " DeviceArray(16.87906, dtype=float32),\n",
              " DeviceArray(16.788517, dtype=float32),\n",
              " DeviceArray(16.698614, dtype=float32),\n",
              " DeviceArray(16.60935, dtype=float32),\n",
              " DeviceArray(16.520704, dtype=float32),\n",
              " DeviceArray(16.432684, dtype=float32),\n",
              " DeviceArray(16.345282, dtype=float32),\n",
              " DeviceArray(16.25849, dtype=float32),\n",
              " DeviceArray(16.172306, dtype=float32),\n",
              " DeviceArray(16.086721, dtype=float32),\n",
              " DeviceArray(16.001736, dtype=float32),\n",
              " DeviceArray(15.917342, dtype=float32),\n",
              " DeviceArray(15.833532, dtype=float32),\n",
              " DeviceArray(15.750309, dtype=float32),\n",
              " DeviceArray(15.667657, dtype=float32),\n",
              " DeviceArray(15.585585, dtype=float32),\n",
              " DeviceArray(15.504075, dtype=float32),\n",
              " DeviceArray(15.423128, dtype=float32),\n",
              " DeviceArray(15.342741, dtype=float32),\n",
              " DeviceArray(15.262905, dtype=float32),\n",
              " DeviceArray(15.1836195, dtype=float32),\n",
              " DeviceArray(15.104883, dtype=float32),\n",
              " DeviceArray(15.026681, dtype=float32),\n",
              " DeviceArray(14.949024, dtype=float32),\n",
              " DeviceArray(14.871886, dtype=float32),\n",
              " DeviceArray(14.795284, dtype=float32),\n",
              " DeviceArray(14.719201, dtype=float32),\n",
              " DeviceArray(14.643639, dtype=float32),\n",
              " DeviceArray(14.568589, dtype=float32),\n",
              " DeviceArray(14.494049, dtype=float32),\n",
              " DeviceArray(14.420014, dtype=float32),\n",
              " DeviceArray(14.346479, dtype=float32),\n",
              " DeviceArray(14.273448, dtype=float32),\n",
              " DeviceArray(14.200909, dtype=float32),\n",
              " DeviceArray(14.128856, dtype=float32),\n",
              " DeviceArray(14.057286, dtype=float32),\n",
              " DeviceArray(13.986206, dtype=float32),\n",
              " DeviceArray(13.915594, dtype=float32),\n",
              " DeviceArray(13.845462, dtype=float32),\n",
              " DeviceArray(13.7758, dtype=float32),\n",
              " DeviceArray(13.706598, dtype=float32),\n",
              " DeviceArray(13.637866, dtype=float32),\n",
              " DeviceArray(13.569589, dtype=float32),\n",
              " DeviceArray(13.501767, dtype=float32),\n",
              " DeviceArray(13.434389, dtype=float32),\n",
              " DeviceArray(13.367464, dtype=float32),\n",
              " DeviceArray(13.3009815, dtype=float32),\n",
              " DeviceArray(13.234941, dtype=float32),\n",
              " DeviceArray(13.169331, dtype=float32),\n",
              " DeviceArray(13.104157, dtype=float32),\n",
              " DeviceArray(13.039418, dtype=float32),\n",
              " DeviceArray(12.975102, dtype=float32),\n",
              " DeviceArray(12.911207, dtype=float32),\n",
              " DeviceArray(12.84773, dtype=float32),\n",
              " DeviceArray(12.784667, dtype=float32),\n",
              " DeviceArray(12.722023, dtype=float32),\n",
              " DeviceArray(12.659783, dtype=float32),\n",
              " DeviceArray(12.597952, dtype=float32),\n",
              " DeviceArray(12.536524, dtype=float32),\n",
              " DeviceArray(12.475494, dtype=float32),\n",
              " DeviceArray(12.414862, dtype=float32),\n",
              " DeviceArray(12.354622, dtype=float32),\n",
              " DeviceArray(12.294777, dtype=float32),\n",
              " DeviceArray(12.235317, dtype=float32),\n",
              " DeviceArray(12.176237, dtype=float32),\n",
              " DeviceArray(12.11754, dtype=float32),\n",
              " DeviceArray(12.059222, dtype=float32),\n",
              " DeviceArray(12.001272, dtype=float32),\n",
              " DeviceArray(11.943702, dtype=float32),\n",
              " DeviceArray(11.886498, dtype=float32),\n",
              " DeviceArray(11.829658, dtype=float32),\n",
              " DeviceArray(11.773182, dtype=float32),\n",
              " DeviceArray(11.717067, dtype=float32),\n",
              " DeviceArray(11.661309, dtype=float32),\n",
              " DeviceArray(11.6059065, dtype=float32),\n",
              " DeviceArray(11.550856, dtype=float32),\n",
              " DeviceArray(11.496151, dtype=float32),\n",
              " DeviceArray(11.441795, dtype=float32),\n",
              " DeviceArray(11.387779, dtype=float32),\n",
              " DeviceArray(11.334112, dtype=float32),\n",
              " DeviceArray(11.280775, dtype=float32),\n",
              " DeviceArray(11.227776, dtype=float32),\n",
              " DeviceArray(11.175112, dtype=float32),\n",
              " DeviceArray(11.122775, dtype=float32),\n",
              " DeviceArray(11.070767, dtype=float32),\n",
              " DeviceArray(11.019081, dtype=float32),\n",
              " DeviceArray(10.967721, dtype=float32),\n",
              " DeviceArray(10.916684, dtype=float32),\n",
              " DeviceArray(10.865963, dtype=float32),\n",
              " DeviceArray(10.815552, dtype=float32),\n",
              " DeviceArray(10.765457, dtype=float32),\n",
              " DeviceArray(10.7156725, dtype=float32),\n",
              " DeviceArray(10.666192, dtype=float32),\n",
              " DeviceArray(10.617019, dtype=float32),\n",
              " DeviceArray(10.568147, dtype=float32),\n",
              " DeviceArray(10.51958, dtype=float32),\n",
              " DeviceArray(10.471307, dtype=float32),\n",
              " DeviceArray(10.423334, dtype=float32),\n",
              " DeviceArray(10.375654, dtype=float32),\n",
              " DeviceArray(10.328263, dtype=float32),\n",
              " DeviceArray(10.281164, dtype=float32),\n",
              " DeviceArray(10.234354, dtype=float32),\n",
              " DeviceArray(10.187822, dtype=float32),\n",
              " DeviceArray(10.141581, dtype=float32),\n",
              " DeviceArray(10.095617, dtype=float32),\n",
              " DeviceArray(10.049931, dtype=float32),\n",
              " DeviceArray(10.004523, dtype=float32),\n",
              " DeviceArray(9.959389, dtype=float32),\n",
              " DeviceArray(9.914525, dtype=float32),\n",
              " DeviceArray(9.869936, dtype=float32),\n",
              " DeviceArray(9.825607, dtype=float32),\n",
              " DeviceArray(9.781551, dtype=float32),\n",
              " DeviceArray(9.737758, dtype=float32),\n",
              " DeviceArray(9.694222, dtype=float32),\n",
              " DeviceArray(9.650949, dtype=float32),\n",
              " DeviceArray(9.607933, dtype=float32),\n",
              " DeviceArray(9.565176, dtype=float32),\n",
              " DeviceArray(9.522675, dtype=float32),\n",
              " DeviceArray(9.48042, dtype=float32),\n",
              " DeviceArray(9.4384165, dtype=float32),\n",
              " DeviceArray(9.396663, dtype=float32),\n",
              " DeviceArray(9.355155, dtype=float32),\n",
              " DeviceArray(9.313893, dtype=float32),\n",
              " DeviceArray(9.272871, dtype=float32),\n",
              " DeviceArray(9.232092, dtype=float32),\n",
              " DeviceArray(9.191555, dtype=float32),\n",
              " DeviceArray(9.151255, dtype=float32),\n",
              " DeviceArray(9.111186, dtype=float32),\n",
              " DeviceArray(9.071356, dtype=float32),\n",
              " DeviceArray(9.031758, dtype=float32),\n",
              " DeviceArray(8.992387, dtype=float32),\n",
              " DeviceArray(8.953247, dtype=float32),\n",
              " DeviceArray(8.914334, dtype=float32),\n",
              " DeviceArray(8.875648, dtype=float32),\n",
              " DeviceArray(8.837187, dtype=float32),\n",
              " DeviceArray(8.798944, dtype=float32),\n",
              " DeviceArray(8.760924, dtype=float32),\n",
              " DeviceArray(8.723125, dtype=float32),\n",
              " DeviceArray(8.685543, dtype=float32),\n",
              " DeviceArray(8.648174, dtype=float32),\n",
              " DeviceArray(8.611018, dtype=float32),\n",
              " DeviceArray(8.574076, dtype=float32),\n",
              " DeviceArray(8.537344, dtype=float32),\n",
              " DeviceArray(8.500825, dtype=float32),\n",
              " DeviceArray(8.46451, dtype=float32),\n",
              " DeviceArray(8.428407, dtype=float32),\n",
              " DeviceArray(8.392505, dtype=float32),\n",
              " DeviceArray(8.356802, dtype=float32),\n",
              " DeviceArray(8.321306, dtype=float32),\n",
              " DeviceArray(8.28601, dtype=float32),\n",
              " DeviceArray(8.250914, dtype=float32),\n",
              " DeviceArray(8.216012, dtype=float32),\n",
              " DeviceArray(8.181312, dtype=float32),\n",
              " DeviceArray(8.146803, dtype=float32),\n",
              " DeviceArray(8.112489, dtype=float32),\n",
              " DeviceArray(8.078366, dtype=float32),\n",
              " DeviceArray(8.044432, dtype=float32),\n",
              " DeviceArray(8.010691, dtype=float32),\n",
              " DeviceArray(7.977137, dtype=float32),\n",
              " DeviceArray(7.943767, dtype=float32),\n",
              " DeviceArray(7.9105873, dtype=float32),\n",
              " DeviceArray(7.87759, dtype=float32),\n",
              " DeviceArray(7.8447747, dtype=float32),\n",
              " DeviceArray(7.812139, dtype=float32),\n",
              " DeviceArray(7.779684, dtype=float32),\n",
              " DeviceArray(7.7474074, dtype=float32),\n",
              " DeviceArray(7.715312, dtype=float32),\n",
              " DeviceArray(7.6833873, dtype=float32),\n",
              " DeviceArray(7.651638, dtype=float32),\n",
              " DeviceArray(7.620066, dtype=float32),\n",
              " DeviceArray(7.5886645, dtype=float32),\n",
              " DeviceArray(7.557437, dtype=float32),\n",
              " DeviceArray(7.526377, dtype=float32),\n",
              " DeviceArray(7.495484, dtype=float32),\n",
              " DeviceArray(7.4647655, dtype=float32),\n",
              " DeviceArray(7.4342074, dtype=float32),\n",
              " DeviceArray(7.4038205, dtype=float32),\n",
              " DeviceArray(7.373596, dtype=float32),\n",
              " DeviceArray(7.3435326, dtype=float32),\n",
              " DeviceArray(7.313631, dtype=float32),\n",
              " DeviceArray(7.283892, dtype=float32),\n",
              " DeviceArray(7.2543144, dtype=float32),\n",
              " DeviceArray(7.224894, dtype=float32),\n",
              " DeviceArray(7.195633, dtype=float32),\n",
              " DeviceArray(7.1665297, dtype=float32),\n",
              " DeviceArray(7.137582, dtype=float32),\n",
              " DeviceArray(7.108786, dtype=float32),\n",
              " DeviceArray(7.080142, dtype=float32),\n",
              " DeviceArray(7.0516496, dtype=float32),\n",
              " DeviceArray(7.023314, dtype=float32),\n",
              " DeviceArray(6.9951234, dtype=float32),\n",
              " DeviceArray(6.9670854, dtype=float32),\n",
              " DeviceArray(6.9391956, dtype=float32),\n",
              " DeviceArray(6.9114532, dtype=float32),\n",
              " DeviceArray(6.8838577, dtype=float32),\n",
              " DeviceArray(6.856404, dtype=float32),\n",
              " DeviceArray(6.8291, dtype=float32),\n",
              " DeviceArray(6.8019347, dtype=float32),\n",
              " DeviceArray(6.774916, dtype=float32),\n",
              " DeviceArray(6.7480364, dtype=float32),\n",
              " DeviceArray(6.721296, dtype=float32),\n",
              " DeviceArray(6.6946955, dtype=float32),\n",
              " DeviceArray(6.668236, dtype=float32),\n",
              " DeviceArray(6.6419115, dtype=float32),\n",
              " DeviceArray(6.6157274, dtype=float32),\n",
              " DeviceArray(6.589672, dtype=float32),\n",
              " DeviceArray(6.5637574, dtype=float32),\n",
              " DeviceArray(6.537975, dtype=float32),\n",
              " DeviceArray(6.5123253, dtype=float32),\n",
              " DeviceArray(6.4868073, dtype=float32),\n",
              " DeviceArray(6.4614253, dtype=float32),\n",
              " DeviceArray(6.436168, dtype=float32),\n",
              " DeviceArray(6.4110427, dtype=float32),\n",
              " DeviceArray(6.3860455, dtype=float32),\n",
              " DeviceArray(6.361179, dtype=float32),\n",
              " DeviceArray(6.336436, dtype=float32),\n",
              " DeviceArray(6.3118205, dtype=float32),\n",
              " DeviceArray(6.2873335, dtype=float32),\n",
              " DeviceArray(6.262968, dtype=float32),\n",
              " DeviceArray(6.238726, dtype=float32),\n",
              " DeviceArray(6.214609, dtype=float32),\n",
              " DeviceArray(6.1906147, dtype=float32),\n",
              " DeviceArray(6.1667433, dtype=float32),\n",
              " DeviceArray(6.1429915, dtype=float32),\n",
              " DeviceArray(6.1193585, dtype=float32),\n",
              " DeviceArray(6.095846, dtype=float32),\n",
              " DeviceArray(6.0724516, dtype=float32),\n",
              " DeviceArray(6.0491743, dtype=float32),\n",
              " DeviceArray(6.026014, dtype=float32),\n",
              " DeviceArray(6.0029697, dtype=float32),\n",
              " DeviceArray(5.9800406, dtype=float32),\n",
              " DeviceArray(5.9572287, dtype=float32),\n",
              " DeviceArray(5.9345274, dtype=float32),\n",
              " DeviceArray(5.9119396, dtype=float32),\n",
              " DeviceArray(5.8894644, dtype=float32),\n",
              " DeviceArray(5.867102, dtype=float32),\n",
              " DeviceArray(5.84485, dtype=float32),\n",
              " DeviceArray(5.822708, dtype=float32),\n",
              " DeviceArray(5.800678, dtype=float32),\n",
              " DeviceArray(5.7787538, dtype=float32),\n",
              " DeviceArray(5.75694, dtype=float32),\n",
              " DeviceArray(5.7352347, dtype=float32),\n",
              " DeviceArray(5.713633, dtype=float32),\n",
              " DeviceArray(5.6921396, dtype=float32),\n",
              " DeviceArray(5.6707525, dtype=float32),\n",
              " DeviceArray(5.649471, dtype=float32),\n",
              " DeviceArray(5.6282935, dtype=float32),\n",
              " DeviceArray(5.6072187, dtype=float32),\n",
              " DeviceArray(5.586246, dtype=float32),\n",
              " DeviceArray(5.565377, dtype=float32),\n",
              " DeviceArray(5.5446105, dtype=float32),\n",
              " DeviceArray(5.5239434, dtype=float32),\n",
              " DeviceArray(5.50338, dtype=float32),\n",
              " DeviceArray(5.4829135, dtype=float32),\n",
              " DeviceArray(5.462549, dtype=float32),\n",
              " DeviceArray(5.4422817, dtype=float32),\n",
              " DeviceArray(5.422114, dtype=float32),\n",
              " DeviceArray(5.4020443, dtype=float32),\n",
              " DeviceArray(5.3820715, dtype=float32),\n",
              " DeviceArray(5.3621926, dtype=float32),\n",
              " DeviceArray(5.3424106, dtype=float32),\n",
              " DeviceArray(5.3227224, dtype=float32),\n",
              " DeviceArray(5.3031316, dtype=float32),\n",
              " DeviceArray(5.2836347, dtype=float32),\n",
              " DeviceArray(5.2642317, dtype=float32),\n",
              " DeviceArray(5.2449193, dtype=float32),\n",
              " DeviceArray(5.2257004, dtype=float32),\n",
              " DeviceArray(5.2065716, dtype=float32),\n",
              " DeviceArray(5.187534, dtype=float32),\n",
              " DeviceArray(5.168587, dtype=float32),\n",
              " DeviceArray(5.1497316, dtype=float32),\n",
              " DeviceArray(5.130965, dtype=float32),\n",
              " DeviceArray(5.112289, dtype=float32),\n",
              " DeviceArray(5.0937023, dtype=float32),\n",
              " DeviceArray(5.0752015, dtype=float32),\n",
              " DeviceArray(5.0567884, dtype=float32),\n",
              " DeviceArray(5.038463, dtype=float32),\n",
              " DeviceArray(5.0202246, dtype=float32),\n",
              " DeviceArray(5.0020723, dtype=float32),\n",
              " DeviceArray(4.984003, dtype=float32),\n",
              " DeviceArray(4.96602, dtype=float32),\n",
              " DeviceArray(4.9481235, dtype=float32),\n",
              " DeviceArray(4.9303102, dtype=float32),\n",
              " DeviceArray(4.9125814, dtype=float32),\n",
              " DeviceArray(4.8949347, dtype=float32),\n",
              " DeviceArray(4.8773713, dtype=float32),\n",
              " DeviceArray(4.859891, dtype=float32),\n",
              " DeviceArray(4.842492, dtype=float32),\n",
              " DeviceArray(4.825174, dtype=float32),\n",
              " DeviceArray(4.8079367, dtype=float32),\n",
              " DeviceArray(4.790777, dtype=float32),\n",
              " DeviceArray(4.7736993, dtype=float32),\n",
              " DeviceArray(4.756701, dtype=float32),\n",
              " DeviceArray(4.7397823, dtype=float32),\n",
              " DeviceArray(4.7229404, dtype=float32),\n",
              " DeviceArray(4.7061768, dtype=float32),\n",
              " DeviceArray(4.6894917, dtype=float32),\n",
              " DeviceArray(4.6728854, dtype=float32),\n",
              " DeviceArray(4.656355, dtype=float32),\n",
              " DeviceArray(4.6399, dtype=float32),\n",
              " DeviceArray(4.62352, dtype=float32),\n",
              " DeviceArray(4.607215, dtype=float32),\n",
              " DeviceArray(4.5909867, dtype=float32),\n",
              " DeviceArray(4.5748324, dtype=float32),\n",
              " DeviceArray(4.558751, dtype=float32),\n",
              " DeviceArray(4.542745, dtype=float32),\n",
              " DeviceArray(4.526811, dtype=float32),\n",
              " DeviceArray(4.51095, dtype=float32),\n",
              " DeviceArray(4.4951634, dtype=float32),\n",
              " DeviceArray(4.4794464, dtype=float32),\n",
              " DeviceArray(4.463804, dtype=float32),\n",
              " DeviceArray(4.448232, dtype=float32),\n",
              " DeviceArray(4.4327292, dtype=float32),\n",
              " DeviceArray(4.4172983, dtype=float32),\n",
              " DeviceArray(4.4019394, dtype=float32),\n",
              " DeviceArray(4.3866487, dtype=float32),\n",
              " DeviceArray(4.371428, dtype=float32),\n",
              " DeviceArray(4.3562746, dtype=float32),\n",
              " DeviceArray(4.341191, dtype=float32),\n",
              " DeviceArray(4.326177, dtype=float32),\n",
              " DeviceArray(4.3112288, dtype=float32),\n",
              " DeviceArray(4.29635, dtype=float32),\n",
              " DeviceArray(4.281538, dtype=float32),\n",
              " DeviceArray(4.2667913, dtype=float32),\n",
              " DeviceArray(4.2521114, dtype=float32),\n",
              " DeviceArray(4.2374983, dtype=float32),\n",
              " DeviceArray(4.2229505, dtype=float32),\n",
              " DeviceArray(4.208472, dtype=float32),\n",
              " DeviceArray(4.1940536, dtype=float32),\n",
              " DeviceArray(4.179701, dtype=float32),\n",
              " DeviceArray(4.165413, dtype=float32),\n",
              " DeviceArray(4.15119, dtype=float32),\n",
              " DeviceArray(4.13703, dtype=float32),\n",
              " DeviceArray(4.122935, dtype=float32),\n",
              " DeviceArray(4.1089005, dtype=float32),\n",
              " DeviceArray(4.0949297, dtype=float32),\n",
              " DeviceArray(4.081022, dtype=float32),\n",
              " DeviceArray(4.067174, dtype=float32),\n",
              " DeviceArray(4.0533886, dtype=float32),\n",
              " DeviceArray(4.0396647, dtype=float32),\n",
              " DeviceArray(4.0260024, dtype=float32),\n",
              " DeviceArray(4.012401, dtype=float32),\n",
              " DeviceArray(3.9988594, dtype=float32),\n",
              " DeviceArray(3.9853814, dtype=float32),\n",
              " DeviceArray(3.9719594, dtype=float32),\n",
              " DeviceArray(3.9585977, dtype=float32),\n",
              " DeviceArray(3.9452956, dtype=float32),\n",
              " DeviceArray(3.9320514, dtype=float32),\n",
              " DeviceArray(3.918866, dtype=float32),\n",
              " DeviceArray(3.9057372, dtype=float32),\n",
              " DeviceArray(3.8926682, dtype=float32),\n",
              " DeviceArray(3.8796546, dtype=float32),\n",
              " DeviceArray(3.8667018, dtype=float32),\n",
              " DeviceArray(3.8538055, dtype=float32),\n",
              " DeviceArray(3.840964, dtype=float32),\n",
              " DeviceArray(3.8281817, dtype=float32),\n",
              " DeviceArray(3.8154538, dtype=float32),\n",
              " DeviceArray(3.8027818, dtype=float32),\n",
              " DeviceArray(3.7901673, dtype=float32),\n",
              " DeviceArray(3.7776077, dtype=float32),\n",
              " DeviceArray(3.7651007, dtype=float32),\n",
              " DeviceArray(3.7526507, dtype=float32),\n",
              " DeviceArray(3.7402542, dtype=float32),\n",
              " DeviceArray(3.7279112, dtype=float32),\n",
              " DeviceArray(3.7156236, dtype=float32),\n",
              " DeviceArray(3.70339, dtype=float32),\n",
              " DeviceArray(3.691207, dtype=float32),\n",
              " DeviceArray(3.6790793, dtype=float32),\n",
              " DeviceArray(3.667005, dtype=float32),\n",
              " DeviceArray(3.6549833, dtype=float32),\n",
              " DeviceArray(3.643014, dtype=float32),\n",
              " DeviceArray(3.6310964, dtype=float32),\n",
              " DeviceArray(3.6192315, dtype=float32),\n",
              " DeviceArray(3.607417, dtype=float32),\n",
              " DeviceArray(3.595655, dtype=float32),\n",
              " DeviceArray(3.5839424, dtype=float32),\n",
              " DeviceArray(3.5722811, dtype=float32),\n",
              " DeviceArray(3.560673, dtype=float32),\n",
              " DeviceArray(3.549113, dtype=float32),\n",
              " DeviceArray(3.537604, dtype=float32),\n",
              " DeviceArray(3.526145, dtype=float32),\n",
              " DeviceArray(3.514733, dtype=float32),\n",
              " DeviceArray(3.5033722, dtype=float32),\n",
              " DeviceArray(3.49206, dtype=float32),\n",
              " DeviceArray(3.4807966, dtype=float32),\n",
              " DeviceArray(3.469583, dtype=float32),\n",
              " DeviceArray(3.4584165, dtype=float32),\n",
              " DeviceArray(3.4472995, dtype=float32),\n",
              " DeviceArray(3.4362302, dtype=float32),\n",
              " DeviceArray(3.4252057, dtype=float32),\n",
              " DeviceArray(3.4142313, dtype=float32),\n",
              " DeviceArray(3.4033058, dtype=float32),\n",
              " DeviceArray(3.3924267, dtype=float32),\n",
              " DeviceArray(3.3815932, dtype=float32),\n",
              " DeviceArray(3.370808, dtype=float32),\n",
              " DeviceArray(3.360068, dtype=float32),\n",
              " DeviceArray(3.3493743, dtype=float32),\n",
              " DeviceArray(3.3387256, dtype=float32),\n",
              " DeviceArray(3.3281226, dtype=float32),\n",
              " DeviceArray(3.3175657, dtype=float32),\n",
              " DeviceArray(3.307054, dtype=float32),\n",
              " DeviceArray(3.2965882, dtype=float32),\n",
              " DeviceArray(3.2861652, dtype=float32),\n",
              " DeviceArray(3.2757888, dtype=float32),\n",
              " DeviceArray(3.265456, dtype=float32),\n",
              " DeviceArray(3.255168, dtype=float32),\n",
              " DeviceArray(3.244924, dtype=float32),\n",
              " DeviceArray(3.2347233, dtype=float32),\n",
              " DeviceArray(3.224565, dtype=float32),\n",
              " DeviceArray(3.2144506, dtype=float32),\n",
              " DeviceArray(3.204381, dtype=float32),\n",
              " DeviceArray(3.194354, dtype=float32),\n",
              " DeviceArray(3.1843696, dtype=float32),\n",
              " DeviceArray(3.1744266, dtype=float32),\n",
              " DeviceArray(3.1645265, dtype=float32),\n",
              " DeviceArray(3.154669, dtype=float32),\n",
              " DeviceArray(3.144854, dtype=float32),\n",
              " DeviceArray(3.13508, dtype=float32),\n",
              " DeviceArray(3.12535, dtype=float32),\n",
              " DeviceArray(3.1156583, dtype=float32),\n",
              " DeviceArray(3.1060083, dtype=float32),\n",
              " DeviceArray(3.096399, dtype=float32),\n",
              " DeviceArray(3.086832, dtype=float32),\n",
              " DeviceArray(3.0773053, dtype=float32),\n",
              " DeviceArray(3.0678184, dtype=float32),\n",
              " DeviceArray(3.058372, dtype=float32),\n",
              " DeviceArray(3.0489655, dtype=float32),\n",
              " DeviceArray(3.0396008, dtype=float32),\n",
              " DeviceArray(3.0302734, dtype=float32),\n",
              " DeviceArray(3.020987, dtype=float32),\n",
              " DeviceArray(3.0117393, dtype=float32),\n",
              " DeviceArray(3.002531, dtype=float32),\n",
              " DeviceArray(2.993362, dtype=float32),\n",
              " DeviceArray(2.9842322, dtype=float32),\n",
              " DeviceArray(2.9751394, dtype=float32),\n",
              " DeviceArray(2.966087, dtype=float32),\n",
              " DeviceArray(2.957072, dtype=float32),\n",
              " DeviceArray(2.9480963, dtype=float32),\n",
              " DeviceArray(2.9391568, dtype=float32),\n",
              " DeviceArray(2.930256, dtype=float32),\n",
              " DeviceArray(2.9213936, dtype=float32),\n",
              " DeviceArray(2.9125688, dtype=float32),\n",
              " DeviceArray(2.9037802, dtype=float32),\n",
              " DeviceArray(2.8950295, dtype=float32),\n",
              " DeviceArray(2.886316, dtype=float32),\n",
              " DeviceArray(2.8776367, dtype=float32),\n",
              " DeviceArray(2.868997, dtype=float32),\n",
              " DeviceArray(2.8603919, dtype=float32),\n",
              " DeviceArray(2.8518233, dtype=float32),\n",
              " DeviceArray(2.8432922, dtype=float32),\n",
              " DeviceArray(2.8347964, dtype=float32),\n",
              " DeviceArray(2.826337, dtype=float32),\n",
              " DeviceArray(2.8179116, dtype=float32),\n",
              " DeviceArray(2.8095233, dtype=float32),\n",
              " DeviceArray(2.8011692, dtype=float32),\n",
              " DeviceArray(2.7928498, dtype=float32),\n",
              " DeviceArray(2.7845662, dtype=float32),\n",
              " DeviceArray(2.7763186, dtype=float32),\n",
              " DeviceArray(2.7681031, dtype=float32),\n",
              " DeviceArray(2.7599251, dtype=float32),\n",
              " DeviceArray(2.7517812, dtype=float32),\n",
              " DeviceArray(2.7436705, dtype=float32),\n",
              " DeviceArray(2.7355943, dtype=float32),\n",
              " DeviceArray(2.7275527, dtype=float32),\n",
              " DeviceArray(2.7195446, dtype=float32),\n",
              " DeviceArray(2.7115705, dtype=float32),\n",
              " DeviceArray(2.70363, dtype=float32),\n",
              " DeviceArray(2.6957223, dtype=float32),\n",
              " DeviceArray(2.687847, dtype=float32),\n",
              " DeviceArray(2.6800063, dtype=float32),\n",
              " DeviceArray(2.6721978, dtype=float32),\n",
              " DeviceArray(2.6644225, dtype=float32),\n",
              " DeviceArray(2.6566799, dtype=float32),\n",
              " DeviceArray(2.6489701, dtype=float32),\n",
              " DeviceArray(2.641292, dtype=float32),\n",
              " DeviceArray(2.633646, dtype=float32),\n",
              " DeviceArray(2.6260319, dtype=float32),\n",
              " DeviceArray(2.6184506, dtype=float32),\n",
              " DeviceArray(2.6109004, dtype=float32),\n",
              " DeviceArray(2.6033835, dtype=float32),\n",
              " DeviceArray(2.5958972, dtype=float32),\n",
              " DeviceArray(2.5884423, dtype=float32),\n",
              " DeviceArray(2.581019, dtype=float32),\n",
              " DeviceArray(2.5736256, dtype=float32),\n",
              " DeviceArray(2.5662646, dtype=float32),\n",
              " DeviceArray(2.5589342, dtype=float32),\n",
              " DeviceArray(2.5516343, dtype=float32),\n",
              " DeviceArray(2.5443654, dtype=float32),\n",
              " DeviceArray(2.5371256, dtype=float32),\n",
              " DeviceArray(2.5299182, dtype=float32),\n",
              " DeviceArray(2.5227396, dtype=float32),\n",
              " DeviceArray(2.5155923, dtype=float32),\n",
              " DeviceArray(2.5084732, dtype=float32),\n",
              " DeviceArray(2.5013857, dtype=float32),\n",
              " DeviceArray(2.494328, dtype=float32),\n",
              " DeviceArray(2.487299, dtype=float32),\n",
              " DeviceArray(2.4802997, dtype=float32),\n",
              " DeviceArray(2.4733303, dtype=float32),\n",
              " DeviceArray(2.4663897, dtype=float32),\n",
              " DeviceArray(2.4594772, dtype=float32),\n",
              " DeviceArray(2.4525948, dtype=float32),\n",
              " DeviceArray(2.4457412, dtype=float32),\n",
              " DeviceArray(2.4389167, dtype=float32),\n",
              " DeviceArray(2.4321196, dtype=float32),\n",
              " DeviceArray(2.4253523, dtype=float32),\n",
              " DeviceArray(2.4186137, dtype=float32),\n",
              " DeviceArray(2.4119022, dtype=float32),\n",
              " DeviceArray(2.4052188, dtype=float32),\n",
              " DeviceArray(2.3985643, dtype=float32),\n",
              " DeviceArray(2.3919382, dtype=float32),\n",
              " DeviceArray(2.3853385, dtype=float32),\n",
              " DeviceArray(2.3787658, dtype=float32),\n",
              " DeviceArray(2.3722222, dtype=float32),\n",
              " DeviceArray(2.3657053, dtype=float32),\n",
              " DeviceArray(2.359216, dtype=float32),\n",
              " DeviceArray(2.3527536, dtype=float32),\n",
              " DeviceArray(2.3463185, dtype=float32),\n",
              " DeviceArray(2.3399105, dtype=float32),\n",
              " DeviceArray(2.33353, dtype=float32),\n",
              " DeviceArray(2.3271751, dtype=float32),\n",
              " DeviceArray(2.3208458, dtype=float32),\n",
              " DeviceArray(2.314545, dtype=float32),\n",
              " DeviceArray(2.3082707, dtype=float32),\n",
              " DeviceArray(2.302022, dtype=float32),\n",
              " DeviceArray(2.2958, dtype=float32),\n",
              " DeviceArray(2.2896044, dtype=float32)]"
            ]
          },
          "metadata": {},
          "execution_count": 423
        }
      ]
    },
    {
      "cell_type": "code",
      "source": [
        "jax.jacfwd(jnp.hstack)([jnp.array([895049548.0, 839458.0, 6.66]),jnp.array([1.0, 1.0, 1.0])])"
      ],
      "metadata": {
        "colab": {
          "base_uri": "https://localhost:8080/"
        },
        "id": "OYocqBxiOOjZ",
        "outputId": "69c6f15c-fd60-429e-a57c-2139a60f0ae7"
      },
      "execution_count": 346,
      "outputs": [
        {
          "output_type": "execute_result",
          "data": {
            "text/plain": [
              "[DeviceArray([[1., 0., 0.],\n",
              "              [0., 1., 0.],\n",
              "              [0., 0., 1.],\n",
              "              [0., 0., 0.],\n",
              "              [0., 0., 0.],\n",
              "              [0., 0., 0.]], dtype=float32), DeviceArray([[0., 0., 0.],\n",
              "              [0., 0., 0.],\n",
              "              [0., 0., 0.],\n",
              "              [1., 0., 0.],\n",
              "              [0., 1., 0.],\n",
              "              [0., 0., 1.]], dtype=float32)]"
            ]
          },
          "metadata": {},
          "execution_count": 346
        }
      ]
    },
    {
      "cell_type": "code",
      "source": [],
      "metadata": {
        "id": "VbqxUOTiXnEo"
      },
      "execution_count": null,
      "outputs": []
    },
    {
      "cell_type": "code",
      "source": [],
      "metadata": {
        "id": "BcoupG3JO6yA"
      },
      "execution_count": 313,
      "outputs": []
    },
    {
      "cell_type": "code",
      "source": [],
      "metadata": {
        "id": "FtVd4TPVOSIx"
      },
      "execution_count": 313,
      "outputs": []
    },
    {
      "cell_type": "code",
      "source": [
        "e"
      ],
      "metadata": {
        "colab": {
          "base_uri": "https://localhost:8080/"
        },
        "id": "utsGQ5s_TUnL",
        "outputId": "df01fb53-cdda-4850-b916-4d4bbfccecdf"
      },
      "execution_count": 319,
      "outputs": [
        {
          "output_type": "execute_result",
          "data": {
            "text/plain": [
              "array([0.85930134, 0.86614177, 0.87120413, 0.87236917, 0.88316008,\n",
              "       0.88396978, 0.88956213, 0.89251416, 0.89299653, 0.90584494,\n",
              "       0.90763241, 0.9113794 , 0.91255968, 0.91547644, 0.91691988,\n",
              "       0.91823731, 0.91915803, 0.92156232, 0.92460202, 0.92799118,\n",
              "       0.93101412, 0.9329355 , 0.93514257, 0.94181261, 0.94279286,\n",
              "       0.94776303, 0.94829122, 0.9509788 , 0.95358322, 0.95648404,\n",
              "       0.95878514, 0.96400889, 0.96723517, 0.96988354, 0.9716947 ,\n",
              "       0.97381458, 0.97695745, 0.97789057, 0.97934234, 0.98219365,\n",
              "       0.98512622, 0.98772847, 0.98861521, 0.99155173, 0.99339449,\n",
              "       0.99584048, 0.9977046 , 0.99894694, 0.99963685, 1.        ])"
            ]
          },
          "metadata": {},
          "execution_count": 319
        }
      ]
    },
    {
      "cell_type": "code",
      "source": [
        "evecs"
      ],
      "metadata": {
        "colab": {
          "base_uri": "https://localhost:8080/"
        },
        "id": "A8sCLXAeTVXn",
        "outputId": "8c3b7804-42cc-4218-90c5-03ec3f28f665"
      },
      "execution_count": 320,
      "outputs": [
        {
          "output_type": "execute_result",
          "data": {
            "text/plain": [
              "array([[-0.01524352,  0.02322883, -0.01512288, ..., -0.03254406,\n",
              "        -0.00477985,  0.0283068 ],\n",
              "       [-0.09897248,  0.02205627,  0.00257743, ...,  0.02092859,\n",
              "        -0.04746342,  0.03144832],\n",
              "       [ 0.00052391,  0.00071816, -0.00022312, ...,  0.05269263,\n",
              "         0.04495825,  0.03430038],\n",
              "       ...,\n",
              "       [-0.00024003, -0.00147164, -0.00035732, ...,  0.04896521,\n",
              "         0.04111969,  0.03113345],\n",
              "       [-0.00090146, -0.00638777, -0.00194459, ...,  0.04099129,\n",
              "         0.03923637,  0.03161324],\n",
              "       [ 0.04989573,  0.00145231,  0.00670891, ..., -0.01337404,\n",
              "        -0.02921327,  0.03037398]])"
            ]
          },
          "metadata": {},
          "execution_count": 320
        }
      ]
    },
    {
      "cell_type": "code",
      "source": [],
      "metadata": {
        "id": "AZEGs6AxTWZ6"
      },
      "execution_count": null,
      "outputs": []
    },
    {
      "cell_type": "code",
      "source": [
        "b = Encoder(1)\n",
        "b.init(jax.random.PRNGKey(108), X)"
      ],
      "metadata": {
        "colab": {
          "base_uri": "https://localhost:8080/"
        },
        "id": "iAD2qyLVbnIS",
        "outputId": "3f916fbf-40b5-436a-bd2d-31ef980e9564"
      },
      "execution_count": 385,
      "outputs": [
        {
          "output_type": "execute_result",
          "data": {
            "text/plain": [
              "FrozenDict({\n",
              "    params: {\n",
              "        layer1: {\n",
              "            kernel: DeviceArray([[-0.24151142],\n",
              "                         [-0.04542233],\n",
              "                         [-0.951567  ],\n",
              "                         [-0.4084908 ]], dtype=float32),\n",
              "            bias: DeviceArray([0.], dtype=float32),\n",
              "        },\n",
              "    },\n",
              "})"
            ]
          },
          "metadata": {},
          "execution_count": 385
        }
      ]
    }
  ]
}